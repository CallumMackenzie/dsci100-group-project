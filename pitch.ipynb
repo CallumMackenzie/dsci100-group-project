{
 "cells": [
  {
   "cell_type": "markdown",
   "id": "e7d3ff2a-c3a8-4595-8a29-283c839efe27",
   "metadata": {},
   "source": [
    "# TODO: TITLE"
   ]
  },
  {
   "cell_type": "markdown",
   "id": "dc44cf28-0e45-4eac-abf5-7a961578257e",
   "metadata": {},
   "source": [
    "## Introduction\n",
    "\n",
    "Many people around the world suffer from heart disease for reasons. Heart problems are common among older adults due to the aging of the body. Heart disease patients often have angina as a symptom. In addition, not only does blood pressure reflect the health of blood vessels, but serum cholesterol values can also indicate potential blood flow restriction in blood vessels.  \n",
    "- What is the predictive status of vessel stenosis based on patient age, chest pain type, resting blood pressure, and serum cholesterol values?\n",
    "- Identify/explore dataset"
   ]
  },
  {
   "cell_type": "markdown",
   "id": "a04ee995-bfe8-4199-bbcd-58f0750a2e30",
   "metadata": {},
   "source": [
    "## Preliminary Data Analysis\n",
    "\n",
    "- Demonstrate dataset can be read into R\n",
    "- Clean and wrangle data\n",
    "- Summarize data in at least one table\n",
    "- Vizualize the data with at least one plot"
   ]
  },
  {
   "cell_type": "markdown",
   "id": "20273ff9-b30f-4adc-bf3f-8c7b17b25ac5",
   "metadata": {},
   "source": [
    "## Methods\n",
    "- Explain how we will conduct our data analysis and what variables/columns we will use\n",
    "    - Age\n",
    "    - Choloesterol\n",
    "    - Chest pain type\n",
    "    - Resting heart rate\n",
    "- Describe at least one way we will visualize results"
   ]
  },
  {
   "cell_type": "markdown",
   "id": "371c4502-935c-4e77-80a1-913f9f242de7",
   "metadata": {},
   "source": [
    "## Expected Outcomes\n",
    "- What do we expect to find?\n",
    "- What impact could such findings have?\n",
    "- What future questions could this lead to?"
   ]
  },
  {
   "cell_type": "code",
   "execution_count": null,
   "id": "82f42883-9fe9-4437-84d9-b37621d01d48",
   "metadata": {},
   "outputs": [],
   "source": []
  }
 ],
 "metadata": {
  "kernelspec": {
   "display_name": "R",
   "language": "R",
   "name": "ir"
  },
  "language_info": {
   "codemirror_mode": "r",
   "file_extension": ".r",
   "mimetype": "text/x-r-source",
   "name": "R",
   "pygments_lexer": "r",
   "version": "4.1.3"
  }
 },
 "nbformat": 4,
 "nbformat_minor": 5
}
