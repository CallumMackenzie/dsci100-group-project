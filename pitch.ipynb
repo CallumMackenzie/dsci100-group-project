{
 "cells": [
  {
   "cell_type": "markdown",
   "id": "e7d3ff2a-c3a8-4595-8a29-283c839efe27",
   "metadata": {},
   "source": [
    "# TODO: TITLE"
   ]
  },
  {
   "cell_type": "markdown",
   "id": "dc44cf28-0e45-4eac-abf5-7a961578257e",
   "metadata": {},
   "source": [
    "## Introduction\n",
    "\n",
    "Many people in the world suffer from heart disease. Narrowing of blood vessels usually implies heart disease, which is related to several factors such as age, angina, blood pressure, and serum cholesterol levels. Heart problems are common in older adults due to aging arteries (Heart Health and Aging, n.d.). Coronary artery disease is a heart condition with angina. Blood pressure can reflect the health of blood vessels (High Blood Pressure Symptoms, Causes, and Problems | cdc.gov, 2021), while serum cholesterol values can also indicate potential blood flow restrictions in blood vessels (Warning Signs and Symptoms of Heart Disease, n.d.). So,\n", 
    
    "\t **What is the predictive status of vessel stenosis based on patient age, type of chest pain, resting blood pressure, and serum cholesterol values?**\n",
    
    "To answer the question, this project will conduct a classification prediction on the vessel stenosis with a random dataset *Reprocessed Hungarian* (Machine Learning Repository, 1988) which contains all the required variables above."
   ]
  },
  {
   "cell_type": "markdown",
   "id": "a04ee995-bfe8-4199-bbcd-58f0750a2e30",
   "metadata": {},
   "source": [
    "## Preliminary Data Analysis\n",
    "\n",
    "- Demonstrate dataset can be read into R\n",
    "- Clean and wrangle data\n",
    "- Summarize data in at least one table\n",
    "- Vizualize the data with at least one plot"
   ]
  },
  {
   "cell_type": "markdown",
   "id": "20273ff9-b30f-4adc-bf3f-8c7b17b25ac5",
   "metadata": {},
   "source": [
    "## Methods\n",
    "We will attempt to develop a model using classification to determine whether someone has heart disease based off of sevel facors which are listed as follows:",
    "- Explain how we will conduct our data analysis and what variables/columns we will use\n",
    "    - Age\n",
    "    - Serum choloesterol\n",
    "    - Chest pain type\n",
    "    - Resting blood pressure\n",
    "A patient will either be classified as having or not having heart disease. The relevance of all these variables to the likelyhood someone has developed heart diseases is explained in the introduction. ",
    "One of the ways we plan to visiualize our results is using a scatterplot, with blood pressure and cholesterol on either axis, while the type of chest pain\n",
    "will be distinguished by different colors for each data point. A visualization like this may demonstrate any relationship between chest pain type and associated resting blood pressure and cholesterol. A similar visualization might use whether or not they are likely to have heart disease as the coloring for the points, and would be useful for visualizing whether or not cholesterol and blood pressure are effective predictors of heart disease."
   ]
  },
  {
   "cell_type": "markdown",
   "id": "371c4502-935c-4e77-80a1-913f9f242de7",
   "metadata": {},
   "source": [
    "## Expected Outcomes\n",
    "- What do we expect to find?\n",
    "- What impact could such findings have?\n",
    "- What future questions could this lead to?"
   ]
  }
 ],
 "metadata": {
  "kernelspec": {
   "display_name": "R",
   "language": "R",
   "name": "ir"
  },
  "language_info": {
   "codemirror_mode": "r",
   "file_extension": ".r",
   "mimetype": "text/x-r-source",
   "name": "R",
   "pygments_lexer": "r",
   "version": "4.1.3"
  }
 },
 "nbformat": 4,
 "nbformat_minor": 5
}
