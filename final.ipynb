{
 "cells": [
  {
   "cell_type": "markdown",
   "id": "43b26e20-a0cb-49a1-b06f-442530432f44",
   "metadata": {},
   "source": [
    "# Classsification of Heart Disease"
   ]
  },
  {
   "cell_type": "markdown",
   "id": "e2b6ded8-fe83-4198-907f-7b16dcf07546",
   "metadata": {},
   "source": [
    "## Introduction\n",
    " - provide some relevant background information on the topic so that someone unfamiliar with it will be prepared to understand the rest of your report\n",
    "- clearly state the question you tried to answer with your project\n",
    "- identify and describe the dataset that was used to answer the question"
   ]
  },
  {
   "cell_type": "markdown",
   "id": "0e4a5890-79e1-4477-83d5-18c327745876",
   "metadata": {},
   "source": [
    "## Methods & Results\n",
    ">- describe in written English the methods you used to perform your analysis from beginning to end that narrates the code the does the analysis.\n",
    ">- your report should include code which:\n",
    "    - loads data from the original source on the web \n",
    "    - wrangles and cleans the data from it's original (downloaded) format to the format necessary for the planned analysis\n",
    "    - performs a summary of the data set that is relevant for exploratory data analysis related to the planned analysis \n",
    "    - creates a visualization of the dataset that is relevant for exploratory data analysis related to the planned analysis\n",
    "    - performs the data analysis\n",
    "    - creates a visualization of the analysis \n",
    "    - note: all tables and figure should have a figure/table number and a legend"
   ]
  },
  {
   "cell_type": "code",
   "execution_count": 29,
   "id": "d41833d4-a68c-4400-ba73-f9e90744bd0a",
   "metadata": {
    "tags": []
   },
   "outputs": [],
   "source": [
    "# Load libraries\n",
    "library(tidyverse)\n",
    "library(repr)\n",
    "library(tidymodels)"
   ]
  },
  {
   "cell_type": "markdown",
   "id": "9df3cfcc-f52e-44e0-8a10-af0a8b7f474f",
   "metadata": {},
   "source": [
    "### Initial Data Cleaning\n",
    "First, we must download the dataset from the web into R. Since the dataset has no column names, they must be manually set in accordance with the [dataset website](https://archive.ics.uci.edu/ml/datasets/Heart+Disease)."
   ]
  },
  {
   "cell_type": "code",
   "execution_count": 30,
   "id": "a614b2d6-8ced-4f51-85dd-a266f11615a2",
   "metadata": {
    "tags": []
   },
   "outputs": [
    {
     "name": "stderr",
     "output_type": "stream",
     "text": [
      "\u001b[1mRows: \u001b[22m\u001b[34m294\u001b[39m \u001b[1mColumns: \u001b[22m\u001b[34m14\u001b[39m\n",
      "\u001b[36m──\u001b[39m \u001b[1mColumn specification\u001b[22m \u001b[36m────────────────────────────────────────────────────────\u001b[39m\n",
      "\u001b[1mDelimiter:\u001b[22m \" \"\n",
      "\u001b[32mdbl\u001b[39m (14): X1, X2, X3, X4, X5, X6, X7, X8, X9, X10, X11, X12, X13, X14\n",
      "\n",
      "\u001b[36mℹ\u001b[39m Use `spec()` to retrieve the full column specification for this data.\n",
      "\u001b[36mℹ\u001b[39m Specify the column types or set `show_col_types = FALSE` to quiet this message.\n"
     ]
    },
    {
     "data": {
      "text/html": [
       "<table class=\"dataframe\">\n",
       "<caption>A tibble: 6 × 14</caption>\n",
       "<thead>\n",
       "\t<tr><th scope=col>age</th><th scope=col>sex</th><th scope=col>cp</th><th scope=col>trestbps</th><th scope=col>chol</th><th scope=col>fbs</th><th scope=col>restecg</th><th scope=col>thalach</th><th scope=col>exang</th><th scope=col>oldpeak</th><th scope=col>slope</th><th scope=col>ca</th><th scope=col>thal</th><th scope=col>num</th></tr>\n",
       "\t<tr><th scope=col>&lt;dbl&gt;</th><th scope=col>&lt;dbl&gt;</th><th scope=col>&lt;dbl&gt;</th><th scope=col>&lt;dbl&gt;</th><th scope=col>&lt;dbl&gt;</th><th scope=col>&lt;dbl&gt;</th><th scope=col>&lt;dbl&gt;</th><th scope=col>&lt;dbl&gt;</th><th scope=col>&lt;dbl&gt;</th><th scope=col>&lt;dbl&gt;</th><th scope=col>&lt;dbl&gt;</th><th scope=col>&lt;dbl&gt;</th><th scope=col>&lt;dbl&gt;</th><th scope=col>&lt;dbl&gt;</th></tr>\n",
       "</thead>\n",
       "<tbody>\n",
       "\t<tr><td>40</td><td>1</td><td>2</td><td>140</td><td>289</td><td>0</td><td>0</td><td>172</td><td>0</td><td>0.0</td><td>-9</td><td>-9</td><td>-9</td><td>0</td></tr>\n",
       "\t<tr><td>49</td><td>0</td><td>3</td><td>160</td><td>180</td><td>0</td><td>0</td><td>156</td><td>0</td><td>1.0</td><td> 2</td><td>-9</td><td>-9</td><td>1</td></tr>\n",
       "\t<tr><td>37</td><td>1</td><td>2</td><td>130</td><td>283</td><td>0</td><td>1</td><td> 98</td><td>0</td><td>0.0</td><td>-9</td><td>-9</td><td>-9</td><td>0</td></tr>\n",
       "\t<tr><td>48</td><td>0</td><td>4</td><td>138</td><td>214</td><td>0</td><td>0</td><td>108</td><td>1</td><td>1.5</td><td> 2</td><td>-9</td><td>-9</td><td>3</td></tr>\n",
       "\t<tr><td>54</td><td>1</td><td>3</td><td>150</td><td> -9</td><td>0</td><td>0</td><td>122</td><td>0</td><td>0.0</td><td>-9</td><td>-9</td><td>-9</td><td>0</td></tr>\n",
       "\t<tr><td>39</td><td>1</td><td>3</td><td>120</td><td>339</td><td>0</td><td>0</td><td>170</td><td>0</td><td>0.0</td><td>-9</td><td>-9</td><td>-9</td><td>0</td></tr>\n",
       "</tbody>\n",
       "</table>\n"
      ],
      "text/latex": [
       "A tibble: 6 × 14\n",
       "\\begin{tabular}{llllllllllllll}\n",
       " age & sex & cp & trestbps & chol & fbs & restecg & thalach & exang & oldpeak & slope & ca & thal & num\\\\\n",
       " <dbl> & <dbl> & <dbl> & <dbl> & <dbl> & <dbl> & <dbl> & <dbl> & <dbl> & <dbl> & <dbl> & <dbl> & <dbl> & <dbl>\\\\\n",
       "\\hline\n",
       "\t 40 & 1 & 2 & 140 & 289 & 0 & 0 & 172 & 0 & 0.0 & -9 & -9 & -9 & 0\\\\\n",
       "\t 49 & 0 & 3 & 160 & 180 & 0 & 0 & 156 & 0 & 1.0 &  2 & -9 & -9 & 1\\\\\n",
       "\t 37 & 1 & 2 & 130 & 283 & 0 & 1 &  98 & 0 & 0.0 & -9 & -9 & -9 & 0\\\\\n",
       "\t 48 & 0 & 4 & 138 & 214 & 0 & 0 & 108 & 1 & 1.5 &  2 & -9 & -9 & 3\\\\\n",
       "\t 54 & 1 & 3 & 150 &  -9 & 0 & 0 & 122 & 0 & 0.0 & -9 & -9 & -9 & 0\\\\\n",
       "\t 39 & 1 & 3 & 120 & 339 & 0 & 0 & 170 & 0 & 0.0 & -9 & -9 & -9 & 0\\\\\n",
       "\\end{tabular}\n"
      ],
      "text/markdown": [
       "\n",
       "A tibble: 6 × 14\n",
       "\n",
       "| age &lt;dbl&gt; | sex &lt;dbl&gt; | cp &lt;dbl&gt; | trestbps &lt;dbl&gt; | chol &lt;dbl&gt; | fbs &lt;dbl&gt; | restecg &lt;dbl&gt; | thalach &lt;dbl&gt; | exang &lt;dbl&gt; | oldpeak &lt;dbl&gt; | slope &lt;dbl&gt; | ca &lt;dbl&gt; | thal &lt;dbl&gt; | num &lt;dbl&gt; |\n",
       "|---|---|---|---|---|---|---|---|---|---|---|---|---|---|\n",
       "| 40 | 1 | 2 | 140 | 289 | 0 | 0 | 172 | 0 | 0.0 | -9 | -9 | -9 | 0 |\n",
       "| 49 | 0 | 3 | 160 | 180 | 0 | 0 | 156 | 0 | 1.0 |  2 | -9 | -9 | 1 |\n",
       "| 37 | 1 | 2 | 130 | 283 | 0 | 1 |  98 | 0 | 0.0 | -9 | -9 | -9 | 0 |\n",
       "| 48 | 0 | 4 | 138 | 214 | 0 | 0 | 108 | 1 | 1.5 |  2 | -9 | -9 | 3 |\n",
       "| 54 | 1 | 3 | 150 |  -9 | 0 | 0 | 122 | 0 | 0.0 | -9 | -9 | -9 | 0 |\n",
       "| 39 | 1 | 3 | 120 | 339 | 0 | 0 | 170 | 0 | 0.0 | -9 | -9 | -9 | 0 |\n",
       "\n"
      ],
      "text/plain": [
       "  age sex cp trestbps chol fbs restecg thalach exang oldpeak slope ca thal num\n",
       "1 40  1   2  140      289  0   0       172     0     0.0     -9    -9 -9   0  \n",
       "2 49  0   3  160      180  0   0       156     0     1.0      2    -9 -9   1  \n",
       "3 37  1   2  130      283  0   1        98     0     0.0     -9    -9 -9   0  \n",
       "4 48  0   4  138      214  0   0       108     1     1.5      2    -9 -9   3  \n",
       "5 54  1   3  150       -9  0   0       122     0     0.0     -9    -9 -9   0  \n",
       "6 39  1   3  120      339  0   0       170     0     0.0     -9    -9 -9   0  "
      ]
     },
     "metadata": {},
     "output_type": "display_data"
    }
   ],
   "source": [
    "# Read data from source into R\n",
    "heart_data_raw <- read_delim(\"https://archive.ics.uci.edu/ml/machine-learning-databases/heart-disease/reprocessed.hungarian.data\",\n",
    "                                delim = \" \",\n",
    "                                col_names = FALSE)\n",
    "# Map column names\n",
    "colnames(heart_data_raw) <- c(\"age\", \n",
    "                              \"sex\", \n",
    "                              \"cp\", \n",
    "                              \"trestbps\", \n",
    "                              \"chol\", \n",
    "                              \"fbs\", \n",
    "                              \"restecg\",\n",
    "                              \"thalach\", \n",
    "                              \"exang\", \n",
    "                              \"oldpeak\", \n",
    "                              \"slope\", \n",
    "                              \"ca\", \n",
    "                              \"thal\", \n",
    "                              \"num\")\n",
    "# Preview data\n",
    "head(heart_data_raw)"
   ]
  },
  {
   "cell_type": "markdown",
   "id": "7a89db58-d4dc-4794-922d-8e394e265e13",
   "metadata": {},
   "source": [
    "You may notice that some columns have an array of values which seem invalid, such as sex being an integer, or cholesterol levels being -9. This data is thus untidy since the values are not representitive of their actual meanings. First, we will perform the mappings of each column which number their factors (such as sex with 0 meaning female and 1 meaning male)."
   ]
  },
  {
   "cell_type": "code",
   "execution_count": 31,
   "id": "11172fee-efb6-4c1f-97fb-f3c73df6fa4e",
   "metadata": {
    "tags": []
   },
   "outputs": [
    {
     "name": "stderr",
     "output_type": "stream",
     "text": [
      "Warning message:\n",
      "\"\u001b[1m\u001b[22mThere was 1 warning in `mutate()`.\n",
      "\u001b[1m\u001b[22m\u001b[36mℹ\u001b[39m In argument: `fbs = recode(fbs, `0` = FALSE, `1` = TRUE)`.\n",
      "Caused by warning:\n",
      "\u001b[1m\u001b[22m\u001b[33m!\u001b[39m Unreplaced values treated as NA as `.x` is not compatible.\n",
      "Please specify replacements exhaustively or supply `.default`.\"\n",
      "Warning message:\n",
      "\"\u001b[1m\u001b[22mThere was 1 warning in `mutate()`.\n",
      "\u001b[1m\u001b[22m\u001b[36mℹ\u001b[39m In argument: `restecg = recode(restecg, `0` = \"normal\", `1` = \"abnormality\",\n",
      "  `2` = \"ventricular hypertrophy\")`.\n",
      "Caused by warning:\n",
      "\u001b[1m\u001b[22m\u001b[33m!\u001b[39m Unreplaced values treated as NA as `.x` is not compatible.\n",
      "Please specify replacements exhaustively or supply `.default`.\"\n",
      "Warning message:\n",
      "\"\u001b[1m\u001b[22mThere was 1 warning in `mutate()`.\n",
      "\u001b[1m\u001b[22m\u001b[36mℹ\u001b[39m In argument: `exang = recode(exang, `0` = FALSE, `1` = TRUE)`.\n",
      "Caused by warning:\n",
      "\u001b[1m\u001b[22m\u001b[33m!\u001b[39m Unreplaced values treated as NA as `.x` is not compatible.\n",
      "Please specify replacements exhaustively or supply `.default`.\"\n",
      "Warning message:\n",
      "\"\u001b[1m\u001b[22mThere was 1 warning in `mutate()`.\n",
      "\u001b[1m\u001b[22m\u001b[36mℹ\u001b[39m In argument: `slope = recode(slope, `1` = \"upsloping\", `2` = \"flat\", `3` =\n",
      "  \"downsloping\")`.\n",
      "Caused by warning:\n",
      "\u001b[1m\u001b[22m\u001b[33m!\u001b[39m Unreplaced values treated as NA as `.x` is not compatible.\n",
      "Please specify replacements exhaustively or supply `.default`.\"\n",
      "Warning message:\n",
      "\"\u001b[1m\u001b[22mThere was 1 warning in `mutate()`.\n",
      "\u001b[1m\u001b[22m\u001b[36mℹ\u001b[39m In argument: `thal = recode(thal, `3` = \"normal\", `6` = \"fixed defect\", `7` =\n",
      "  \"reversable defect\")`.\n",
      "Caused by warning:\n",
      "\u001b[1m\u001b[22m\u001b[33m!\u001b[39m Unreplaced values treated as NA as `.x` is not compatible.\n",
      "Please specify replacements exhaustively or supply `.default`.\"\n",
      "Warning message:\n",
      "\"\u001b[1m\u001b[22mThere was 1 warning in `mutate()`.\n",
      "\u001b[1m\u001b[22m\u001b[36mℹ\u001b[39m In argument: `num = recode(num, `0` = \"<50% narrowing\", `1` = \">50%\n",
      "  narrowing\")`.\n",
      "Caused by warning:\n",
      "\u001b[1m\u001b[22m\u001b[33m!\u001b[39m Unreplaced values treated as NA as `.x` is not compatible.\n",
      "Please specify replacements exhaustively or supply `.default`.\"\n"
     ]
    }
   ],
   "source": [
    "heart_data_recoded <- heart_data_raw |>\n",
    "    mutate(sex = recode(sex, \n",
    "                        `0` = \"female\", \n",
    "                        `1` = \"male\")) |>\n",
    "    mutate(cp = recode(cp, \n",
    "                       `1` = \"typical angina\",\n",
    "                       `2` = \"atypical angina\",\n",
    "                       `3` = \"non-anginal pain\",\n",
    "                       `4` = \"asymptomatic\")) |>\n",
    "    mutate(fbs = recode(fbs, \n",
    "                        `0` = FALSE, \n",
    "                        `1` = TRUE)) |>\n",
    "    mutate(restecg = recode(restecg, \n",
    "                            `0` = \"normal\", \n",
    "                            `1` = \"abnormality\", \n",
    "                            `2` = \"ventricular hypertrophy\")) |>\n",
    "    mutate(exang = recode(exang, \n",
    "                          `0` = FALSE, \n",
    "                          `1` = TRUE)) |>\n",
    "    mutate(slope = recode(slope, \n",
    "                          `1` = \"upsloping\",\n",
    "                          `2` = \"flat\",\n",
    "                          `3` = \"downsloping\")) |>\n",
    "    mutate(ca = ifelse(ca < 0, NA, ca)) |>\n",
    "    mutate(thal = recode(thal, \n",
    "                         `3` = \"normal\", \n",
    "                         `6` = \"fixed defect\", \n",
    "                         `7` = \"reversable defect\")) |>\n",
    "    mutate(num = recode(num, \n",
    "                        `0` = \"<50% narrowing\", \n",
    "                        `1` = \">50% narrowing\"))"
   ]
  },
  {
   "cell_type": "markdown",
   "id": "a6ebc40b-bd47-49e2-aef9-b1ceb3240f47",
   "metadata": {
    "tags": []
   },
   "source": [
    "Then, we will replace invalid values (indicated by a -9 or out of range) with NA."
   ]
  },
  {
   "cell_type": "code",
   "execution_count": 32,
   "id": "f4daf57f-fd4b-4983-9a94-9277c3993d72",
   "metadata": {
    "tags": []
   },
   "outputs": [
    {
     "data": {
      "text/html": [
       "<table class=\"dataframe\">\n",
       "<caption>A tibble: 6 × 14</caption>\n",
       "<thead>\n",
       "\t<tr><th scope=col>age</th><th scope=col>sex</th><th scope=col>cp</th><th scope=col>trestbps</th><th scope=col>chol</th><th scope=col>fbs</th><th scope=col>restecg</th><th scope=col>thalach</th><th scope=col>exang</th><th scope=col>oldpeak</th><th scope=col>slope</th><th scope=col>ca</th><th scope=col>thal</th><th scope=col>num</th></tr>\n",
       "\t<tr><th scope=col>&lt;dbl&gt;</th><th scope=col>&lt;chr&gt;</th><th scope=col>&lt;chr&gt;</th><th scope=col>&lt;dbl&gt;</th><th scope=col>&lt;dbl&gt;</th><th scope=col>&lt;lgl&gt;</th><th scope=col>&lt;chr&gt;</th><th scope=col>&lt;dbl&gt;</th><th scope=col>&lt;lgl&gt;</th><th scope=col>&lt;dbl&gt;</th><th scope=col>&lt;chr&gt;</th><th scope=col>&lt;dbl&gt;</th><th scope=col>&lt;chr&gt;</th><th scope=col>&lt;chr&gt;</th></tr>\n",
       "</thead>\n",
       "<tbody>\n",
       "\t<tr><td>40</td><td><span style=white-space:pre-wrap>male  </span></td><td>atypical angina </td><td>40</td><td>289</td><td>FALSE</td><td><span style=white-space:pre-wrap>normal     </span></td><td>172</td><td>FALSE</td><td>0.0</td><td><span style=white-space:pre-wrap>NA  </span></td><td>NA</td><td>NA</td><td>&lt;50% narrowing</td></tr>\n",
       "\t<tr><td>49</td><td>female</td><td>non-anginal pain</td><td>49</td><td>180</td><td>FALSE</td><td><span style=white-space:pre-wrap>normal     </span></td><td>156</td><td>FALSE</td><td>1.0</td><td>flat</td><td>NA</td><td>NA</td><td>&gt;50% narrowing</td></tr>\n",
       "\t<tr><td>37</td><td><span style=white-space:pre-wrap>male  </span></td><td>atypical angina </td><td>37</td><td>283</td><td>FALSE</td><td>abnormality</td><td> 98</td><td>FALSE</td><td>0.0</td><td><span style=white-space:pre-wrap>NA  </span></td><td>NA</td><td>NA</td><td>&lt;50% narrowing</td></tr>\n",
       "\t<tr><td>48</td><td>female</td><td>asymptomatic    </td><td>48</td><td>214</td><td>FALSE</td><td>normal     </td><td>108</td><td> TRUE</td><td>1.5</td><td>flat</td><td>NA</td><td>NA</td><td>NA            </td></tr>\n",
       "\t<tr><td>54</td><td><span style=white-space:pre-wrap>male  </span></td><td>non-anginal pain</td><td>54</td><td> NA</td><td>FALSE</td><td><span style=white-space:pre-wrap>normal     </span></td><td>122</td><td>FALSE</td><td>0.0</td><td><span style=white-space:pre-wrap>NA  </span></td><td>NA</td><td>NA</td><td>&lt;50% narrowing</td></tr>\n",
       "\t<tr><td>39</td><td><span style=white-space:pre-wrap>male  </span></td><td>non-anginal pain</td><td>39</td><td>339</td><td>FALSE</td><td><span style=white-space:pre-wrap>normal     </span></td><td>170</td><td>FALSE</td><td>0.0</td><td><span style=white-space:pre-wrap>NA  </span></td><td>NA</td><td>NA</td><td>&lt;50% narrowing</td></tr>\n",
       "</tbody>\n",
       "</table>\n"
      ],
      "text/latex": [
       "A tibble: 6 × 14\n",
       "\\begin{tabular}{llllllllllllll}\n",
       " age & sex & cp & trestbps & chol & fbs & restecg & thalach & exang & oldpeak & slope & ca & thal & num\\\\\n",
       " <dbl> & <chr> & <chr> & <dbl> & <dbl> & <lgl> & <chr> & <dbl> & <lgl> & <dbl> & <chr> & <dbl> & <chr> & <chr>\\\\\n",
       "\\hline\n",
       "\t 40 & male   & atypical angina  & 40 & 289 & FALSE & normal      & 172 & FALSE & 0.0 & NA   & NA & NA & <50\\% narrowing\\\\\n",
       "\t 49 & female & non-anginal pain & 49 & 180 & FALSE & normal      & 156 & FALSE & 1.0 & flat & NA & NA & >50\\% narrowing\\\\\n",
       "\t 37 & male   & atypical angina  & 37 & 283 & FALSE & abnormality &  98 & FALSE & 0.0 & NA   & NA & NA & <50\\% narrowing\\\\\n",
       "\t 48 & female & asymptomatic     & 48 & 214 & FALSE & normal      & 108 &  TRUE & 1.5 & flat & NA & NA & NA            \\\\\n",
       "\t 54 & male   & non-anginal pain & 54 &  NA & FALSE & normal      & 122 & FALSE & 0.0 & NA   & NA & NA & <50\\% narrowing\\\\\n",
       "\t 39 & male   & non-anginal pain & 39 & 339 & FALSE & normal      & 170 & FALSE & 0.0 & NA   & NA & NA & <50\\% narrowing\\\\\n",
       "\\end{tabular}\n"
      ],
      "text/markdown": [
       "\n",
       "A tibble: 6 × 14\n",
       "\n",
       "| age &lt;dbl&gt; | sex &lt;chr&gt; | cp &lt;chr&gt; | trestbps &lt;dbl&gt; | chol &lt;dbl&gt; | fbs &lt;lgl&gt; | restecg &lt;chr&gt; | thalach &lt;dbl&gt; | exang &lt;lgl&gt; | oldpeak &lt;dbl&gt; | slope &lt;chr&gt; | ca &lt;dbl&gt; | thal &lt;chr&gt; | num &lt;chr&gt; |\n",
       "|---|---|---|---|---|---|---|---|---|---|---|---|---|---|\n",
       "| 40 | male   | atypical angina  | 40 | 289 | FALSE | normal      | 172 | FALSE | 0.0 | NA   | NA | NA | &lt;50% narrowing |\n",
       "| 49 | female | non-anginal pain | 49 | 180 | FALSE | normal      | 156 | FALSE | 1.0 | flat | NA | NA | &gt;50% narrowing |\n",
       "| 37 | male   | atypical angina  | 37 | 283 | FALSE | abnormality |  98 | FALSE | 0.0 | NA   | NA | NA | &lt;50% narrowing |\n",
       "| 48 | female | asymptomatic     | 48 | 214 | FALSE | normal      | 108 |  TRUE | 1.5 | flat | NA | NA | NA             |\n",
       "| 54 | male   | non-anginal pain | 54 |  NA | FALSE | normal      | 122 | FALSE | 0.0 | NA   | NA | NA | &lt;50% narrowing |\n",
       "| 39 | male   | non-anginal pain | 39 | 339 | FALSE | normal      | 170 | FALSE | 0.0 | NA   | NA | NA | &lt;50% narrowing |\n",
       "\n"
      ],
      "text/plain": [
       "  age sex    cp               trestbps chol fbs   restecg     thalach exang\n",
       "1 40  male   atypical angina  40       289  FALSE normal      172     FALSE\n",
       "2 49  female non-anginal pain 49       180  FALSE normal      156     FALSE\n",
       "3 37  male   atypical angina  37       283  FALSE abnormality  98     FALSE\n",
       "4 48  female asymptomatic     48       214  FALSE normal      108      TRUE\n",
       "5 54  male   non-anginal pain 54        NA  FALSE normal      122     FALSE\n",
       "6 39  male   non-anginal pain 39       339  FALSE normal      170     FALSE\n",
       "  oldpeak slope ca thal num           \n",
       "1 0.0     NA    NA NA   <50% narrowing\n",
       "2 1.0     flat  NA NA   >50% narrowing\n",
       "3 0.0     NA    NA NA   <50% narrowing\n",
       "4 1.5     flat  NA NA   NA            \n",
       "5 0.0     NA    NA NA   <50% narrowing\n",
       "6 0.0     NA    NA NA   <50% narrowing"
      ]
     },
     "metadata": {},
     "output_type": "display_data"
    }
   ],
   "source": [
    "heart_data <- heart_data_recoded |>\n",
    "    mutate(chol = ifelse(chol < 0, NA, chol)) |>\n",
    "    mutate(thalach = ifelse(thalach < 0, NA, thalach)) |>\n",
    "    mutate(age = ifelse(age < 0, NA, age)) |>\n",
    "    mutate(trestbps = ifelse(trestbps < 0, NA, age))\n",
    "head(heart_data)"
   ]
  },
  {
   "cell_type": "markdown",
   "id": "0fea9e24-2159-45fc-8801-4776690be375",
   "metadata": {},
   "source": [
    "Now we will split the data into training and testing sets to ensure our analysis and model can be tested against data it has not seen."
   ]
  },
  {
   "cell_type": "code",
   "execution_count": 33,
   "id": "28f09076-e872-41e8-8a5e-d265a82bed81",
   "metadata": {
    "tags": []
   },
   "outputs": [],
   "source": [
    "heart_data_split <- initial_split(heart_data, prop = 0.7, strata = num)\n",
    "heart_data_training <- training(heart_data_split)\n",
    "heart_data_testing <- testing(heart_data_split)"
   ]
  },
  {
   "cell_type": "markdown",
   "id": "389e50bb-6f89-4c11-9188-6f672c6f3d8a",
   "metadata": {},
   "source": [
    "### Exploratory Data Analysis\n",
    "Now we will get a rough idea of some of the relationships in our data.\n",
    "\n",
    "First, we will see how many individuals are charactarized with each chest pain type to get an idea of how many symptomatic individuals we are dealing with in the dataset."
   ]
  },
  {
   "cell_type": "code",
   "execution_count": 34,
   "id": "e90042ca-926f-4e22-b607-194bdd5d9c9f",
   "metadata": {
    "tags": []
   },
   "outputs": [
    {
     "data": {
      "text/html": [
       "<table class=\"dataframe\">\n",
       "<caption>A tibble: 4 × 2</caption>\n",
       "<thead>\n",
       "\t<tr><th scope=col>cp</th><th scope=col>total</th></tr>\n",
       "\t<tr><th scope=col>&lt;chr&gt;</th><th scope=col>&lt;int&gt;</th></tr>\n",
       "</thead>\n",
       "<tbody>\n",
       "\t<tr><td>asymptomatic    </td><td>83</td></tr>\n",
       "\t<tr><td>atypical angina </td><td>81</td></tr>\n",
       "\t<tr><td>non-anginal pain</td><td>34</td></tr>\n",
       "\t<tr><td>typical angina  </td><td> 7</td></tr>\n",
       "</tbody>\n",
       "</table>\n"
      ],
      "text/latex": [
       "A tibble: 4 × 2\n",
       "\\begin{tabular}{ll}\n",
       " cp & total\\\\\n",
       " <chr> & <int>\\\\\n",
       "\\hline\n",
       "\t asymptomatic     & 83\\\\\n",
       "\t atypical angina  & 81\\\\\n",
       "\t non-anginal pain & 34\\\\\n",
       "\t typical angina   &  7\\\\\n",
       "\\end{tabular}\n"
      ],
      "text/markdown": [
       "\n",
       "A tibble: 4 × 2\n",
       "\n",
       "| cp &lt;chr&gt; | total &lt;int&gt; |\n",
       "|---|---|\n",
       "| asymptomatic     | 83 |\n",
       "| atypical angina  | 81 |\n",
       "| non-anginal pain | 34 |\n",
       "| typical angina   |  7 |\n",
       "\n"
      ],
      "text/plain": [
       "  cp               total\n",
       "1 asymptomatic     83   \n",
       "2 atypical angina  81   \n",
       "3 non-anginal pain 34   \n",
       "4 typical angina    7   "
      ]
     },
     "metadata": {},
     "output_type": "display_data"
    }
   ],
   "source": [
    "chest_pain_counts <- count(heart_data_training, cp) |>\n",
    "    mutate(total = n) |>\n",
    "    select(-n)\n",
    "chest_pain_counts"
   ]
  },
  {
   "cell_type": "markdown",
   "id": "577b8838-f9ca-4cdc-ad1f-a83868426e53",
   "metadata": {},
   "source": [
    "Next, we will look at the number of regular and irregular ECG readings from individuals in the dataset."
   ]
  },
  {
   "cell_type": "code",
   "execution_count": 35,
   "id": "879e47ba-d35c-4b44-9fb4-5e661b5421fd",
   "metadata": {
    "tags": []
   },
   "outputs": [
    {
     "data": {
      "text/html": [
       "<table class=\"dataframe\">\n",
       "<caption>A tibble: 4 × 2</caption>\n",
       "<thead>\n",
       "\t<tr><th scope=col>restecg</th><th scope=col>total</th></tr>\n",
       "\t<tr><th scope=col>&lt;chr&gt;</th><th scope=col>&lt;int&gt;</th></tr>\n",
       "</thead>\n",
       "<tbody>\n",
       "\t<tr><td>abnormality            </td><td> 38</td></tr>\n",
       "\t<tr><td>normal                 </td><td>162</td></tr>\n",
       "\t<tr><td>ventricular hypertrophy</td><td>  4</td></tr>\n",
       "\t<tr><td>NA                     </td><td>  1</td></tr>\n",
       "</tbody>\n",
       "</table>\n"
      ],
      "text/latex": [
       "A tibble: 4 × 2\n",
       "\\begin{tabular}{ll}\n",
       " restecg & total\\\\\n",
       " <chr> & <int>\\\\\n",
       "\\hline\n",
       "\t abnormality             &  38\\\\\n",
       "\t normal                  & 162\\\\\n",
       "\t ventricular hypertrophy &   4\\\\\n",
       "\t NA                      &   1\\\\\n",
       "\\end{tabular}\n"
      ],
      "text/markdown": [
       "\n",
       "A tibble: 4 × 2\n",
       "\n",
       "| restecg &lt;chr&gt; | total &lt;int&gt; |\n",
       "|---|---|\n",
       "| abnormality             |  38 |\n",
       "| normal                  | 162 |\n",
       "| ventricular hypertrophy |   4 |\n",
       "| NA                      |   1 |\n",
       "\n"
      ],
      "text/plain": [
       "  restecg                 total\n",
       "1 abnormality              38  \n",
       "2 normal                  162  \n",
       "3 ventricular hypertrophy   4  \n",
       "4 NA                        1  "
      ]
     },
     "metadata": {},
     "output_type": "display_data"
    }
   ],
   "source": [
    "restecg_counts <- count(heart_data_training, restecg) |>\n",
    "    mutate(total = n) |>\n",
    "    select(-n)\n",
    "restecg_counts"
   ]
  },
  {
   "cell_type": "markdown",
   "id": "9e748e25-b265-421f-802e-86ad4af69779",
   "metadata": {},
   "source": [
    "Now we will look at only individuals with abnormal ECG results; by contrasting the chest pain type versus the total amount, we can get an idea of relationships between ECG type and chest pain. As well, we will compare the type of chest pain versus the total chest pain count for all individuals."
   ]
  },
  {
   "cell_type": "code",
   "execution_count": 36,
   "id": "6fbdeb1c-d237-4181-a2b0-946ca9bbc6d4",
   "metadata": {
    "tags": []
   },
   "outputs": [
    {
     "data": {
      "text/html": [
       "<table class=\"dataframe\">\n",
       "<caption>A tibble: 4 × 4</caption>\n",
       "<thead>\n",
       "\t<tr><th scope=col>cp</th><th scope=col>n</th><th scope=col>total</th><th scope=col>percent_total</th></tr>\n",
       "\t<tr><th scope=col>&lt;chr&gt;</th><th scope=col>&lt;int&gt;</th><th scope=col>&lt;int&gt;</th><th scope=col>&lt;dbl&gt;</th></tr>\n",
       "</thead>\n",
       "<tbody>\n",
       "\t<tr><td>asymptomatic    </td><td>17</td><td>83</td><td>20.48193</td></tr>\n",
       "\t<tr><td>atypical angina </td><td>12</td><td>81</td><td>14.81481</td></tr>\n",
       "\t<tr><td>non-anginal pain</td><td> 7</td><td>34</td><td>20.58824</td></tr>\n",
       "\t<tr><td>typical angina  </td><td> 2</td><td> 7</td><td>28.57143</td></tr>\n",
       "</tbody>\n",
       "</table>\n"
      ],
      "text/latex": [
       "A tibble: 4 × 4\n",
       "\\begin{tabular}{llll}\n",
       " cp & n & total & percent\\_total\\\\\n",
       " <chr> & <int> & <int> & <dbl>\\\\\n",
       "\\hline\n",
       "\t asymptomatic     & 17 & 83 & 20.48193\\\\\n",
       "\t atypical angina  & 12 & 81 & 14.81481\\\\\n",
       "\t non-anginal pain &  7 & 34 & 20.58824\\\\\n",
       "\t typical angina   &  2 &  7 & 28.57143\\\\\n",
       "\\end{tabular}\n"
      ],
      "text/markdown": [
       "\n",
       "A tibble: 4 × 4\n",
       "\n",
       "| cp &lt;chr&gt; | n &lt;int&gt; | total &lt;int&gt; | percent_total &lt;dbl&gt; |\n",
       "|---|---|---|---|\n",
       "| asymptomatic     | 17 | 83 | 20.48193 |\n",
       "| atypical angina  | 12 | 81 | 14.81481 |\n",
       "| non-anginal pain |  7 | 34 | 20.58824 |\n",
       "| typical angina   |  2 |  7 | 28.57143 |\n",
       "\n"
      ],
      "text/plain": [
       "  cp               n  total percent_total\n",
       "1 asymptomatic     17 83    20.48193     \n",
       "2 atypical angina  12 81    14.81481     \n",
       "3 non-anginal pain  7 34    20.58824     \n",
       "4 typical angina    2  7    28.57143     "
      ]
     },
     "metadata": {},
     "output_type": "display_data"
    }
   ],
   "source": [
    "abnormal_restecg_chest_pain_counts <- heart_data_training |>\n",
    "    filter(restecg == \"abnormality\") |>\n",
    "    count(cp) |>\n",
    "    bind_cols(select(chest_pain_counts, total)) |>\n",
    "    mutate(percent_total = n / total * 100)\n",
    "abnormal_restecg_chest_pain_counts"
   ]
  },
  {
   "cell_type": "raw",
   "id": "1c82e6b9-7fb1-48d9-b606-cdcdea8846a6",
   "metadata": {},
   "source": [
    "We can get an idea of the relationship between age and resting ECG abormality by plotting a distribution of resting ECG results against age."
   ]
  },
  {
   "cell_type": "code",
   "execution_count": 37,
   "id": "75efa791-9230-44bc-b355-b9c0834037a8",
   "metadata": {
    "tags": []
   },
   "outputs": [
    {
     "data": {
      "image/png": "[encoded data removed]",
      "text/plain": [
       "plot without title"
      ]
     },
     "metadata": {
      "image/png": {
       "height": 300,
       "width": 600
      }
     },
     "output_type": "display_data"
    }
   ],
   "source": [
    "options(repr.plot.height = 5, repr.plot.width = 10)\n",
    "\n",
    "age_vs_ecg_plot <- heart_data_training |>\n",
    "    filter(!is.na(restecg)) |>\n",
    "    ggplot(aes(x = age, fill = as_factor(restecg))) +\n",
    "    geom_histogram(position = \"identity\", binwidth = 1) +\n",
    "    labs(fill = \"Resting ECG Abnormality\") +\n",
    "    xlab(\"Age\") +\n",
    "    ylab(\"Count\") +\n",
    "    ggtitle(\"Age Distribution and Resting ECG Abnormality\")\n",
    "\n",
    "age_vs_ecg_plot"
   ]
  },
  {
   "cell_type": "markdown",
   "id": "5a91d3a4-c3aa-4476-a484-f3f3a415eeca",
   "metadata": {},
   "source": [
    "A couple things are revealed in this graph; firstly, our dataset is primarily older indivuduals. Second, there appears to be a slight positive correlation between abnormality and age.\n",
    "\n",
    "Now, we will attempt to see if there is a relationship between serum cholesterol and resting blood pressure. We would expect there to be a positive correlation as there is often a stigma between high cholesterol and high blood pressure. This will be done in a scatterplot:"
   ]
  },
  {
   "cell_type": "code",
   "execution_count": 38,
   "id": "90016b3c-06a0-4674-959f-864e8f60a307",
   "metadata": {
    "tags": []
   },
   "outputs": [
    {
     "name": "stderr",
     "output_type": "stream",
     "text": [
      "Warning message:\n",
      "\"\u001b[1m\u001b[22mRemoved 14 rows containing missing values (`geom_point()`).\"\n"
     ]
    },
    {
     "data": {
      "image/png": "[encoded data removed]",
      "text/plain": [
       "plot without title"
      ]
     },
     "metadata": {
      "image/png": {
       "height": 300,
       "width": 540
      }
     },
     "output_type": "display_data"
    }
   ],
   "source": [
    "options(repr.plot.height = 5, repr.plot.width = 9)\n",
    "\n",
    "chol_vs_rhr_plot <- heart_data_training |>\n",
    "    ggplot(aes(x = chol, y = trestbps, color = cp)) +\n",
    "    geom_point() +\n",
    "    xlab(\"Serum Cholesterol (mg/dL)\") +\n",
    "    ylab(\"Resting Blood Pressure (mm Hg)\") +\n",
    "    labs(color = \"Chest Pain Type\") +\n",
    "    ggtitle(\"Serum Cholesterol vs Resting Blood Pressure\")\n",
    "\n",
    "chol_vs_rhr_plot"
   ]
  },
  {
   "cell_type": "markdown",
   "id": "ed887ad6-c232-4ddc-8b05-83266a20c4cc",
   "metadata": {},
   "source": [
    "The resulting plot seems somewhat inconlusive, but there may be a slight positive correlation between the two."
   ]
  },
  {
   "cell_type": "markdown",
   "id": "c5105e13-3143-4691-a017-c888157d53b4",
   "metadata": {},
   "source": [
    "## Discussion\n",
    "- summarize what you found\n",
    "- discuss whether this is what you expected to find?\n",
    "- discuss what impact could such findings have?\n",
    "- discuss what future questions could this lead to?"
   ]
  },
  {
   "cell_type": "markdown",
   "id": "33619b9f-a9b9-40f8-aa3a-e1fc5d14b218",
   "metadata": {},
   "source": [
    "## References\n",
    "- At least 2 citations of literature relevant to the project (format is your choice, just be consistent across the references).\n",
    "- Make sure to cite the source of your data as well."
   ]
  }
 ],
 "metadata": {
  "kernelspec": {
   "display_name": "R",
   "language": "R",
   "name": "ir"
  },
  "language_info": {
   "codemirror_mode": "r",
   "file_extension": ".r",
   "mimetype": "text/x-r-source",
   "name": "R",
   "pygments_lexer": "r",
   "version": "4.2.3"
  }
 },
 "nbformat": 4,
 "nbformat_minor": 5
}
