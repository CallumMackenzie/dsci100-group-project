{
 "cells": [
  {
   "cell_type": "markdown",
   "id": "43b26e20-a0cb-49a1-b06f-442530432f44",
   "metadata": {},
   "source": [
    "# Classsification of Heart Disease"
   ]
  },
  {
   "cell_type": "markdown",
   "id": "e2b6ded8-fe83-4198-907f-7b16dcf07546",
   "metadata": {},
   "source": [
    "## Introduction\n",
    " - provide some relevant background information on the topic so that someone unfamiliar with it will be prepared to understand the rest of your report\n",
    "- clearly state the question you tried to answer with your project\n",
    "- identify and describe the dataset that was used to answer the question"
   ]
  },
  {
   "cell_type": "markdown",
   "id": "0e4a5890-79e1-4477-83d5-18c327745876",
   "metadata": {},
   "source": [
    "## Methods & Results\n",
    "- describe in written English the methods you used to perform your analysis from beginning to end that narrates the code the does the analysis.\n",
    "- your report should include code which:\n",
    "    - loads data from the original source on the web \n",
    "    - wrangles and cleans the data from it's original (downloaded) format to the format necessary for the planned analysis\n",
    "    - performs a summary of the data set that is relevant for exploratory data analysis related to the planned analysis \n",
    "    - creates a visualization of the dataset that is relevant for exploratory data analysis related to the planned analysis\n",
    "    - performs the data analysis\n",
    "    - creates a visualization of the analysis \n",
    "    - note: all tables and figure should have a figure/table number and a legend"
   ]
  },
  {
   "cell_type": "markdown",
   "id": "c5105e13-3143-4691-a017-c888157d53b4",
   "metadata": {},
   "source": [
    "## Discussion\n",
    "- summarize what you found\n",
    "- discuss whether this is what you expected to find?\n",
    "- discuss what impact could such findings have?\n",
    "- discuss what future questions could this lead to?"
   ]
  },
  {
   "cell_type": "markdown",
   "id": "33619b9f-a9b9-40f8-aa3a-e1fc5d14b218",
   "metadata": {},
   "source": [
    "## References\n",
    "- At least 2 citations of literature relevant to the project (format is your choice, just be consistent across the references).\n",
    "- Make sure to cite the source of your data as well."
   ]
  }
 ],
 "metadata": {
  "kernelspec": {
   "display_name": "R",
   "language": "R",
   "name": "ir"
  },
  "language_info": {
   "codemirror_mode": "r",
   "file_extension": ".r",
   "mimetype": "text/x-r-source",
   "name": "R",
   "pygments_lexer": "r",
   "version": "4.2.3"
  }
 },
 "nbformat": 4,
 "nbformat_minor": 5
}
