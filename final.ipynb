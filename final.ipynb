{
 "cells": [
  {
   "cell_type": "markdown",
   "id": "43b26e20-a0cb-49a1-b06f-442530432f44",
   "metadata": {},
   "source": [
    "# Classsification of Heart Disease"
   ]
  },
  {
   "cell_type": "markdown",
   "id": "e2b6ded8-fe83-4198-907f-7b16dcf07546",
   "metadata": {},
   "source": [
    "## Introduction\n",
    "One of the most common health conditions throughout the world is heart disease.  Atherosclerosis, manifesting as vessel narrowing or vessel stenosis, occurs due to an accumulation of fat within the blood vessels of the heart. Narrowing of blood vessels usually implies a higher risk of some kinds of heart disease (Malota et al., 2018), and this vessel stenosis is likely related to several factors such as age, blood pressure, and serum cholesterol levels.\u000A",
    
    "Heart problems are common in older adults due to aging arteries. Aging change in arteries usually presents as a reduced elasticity on the large blood vessels related to atherosclerosis resulting in high blood pressure. Aging also results in other health risks, such as limits to blood flow and decreased heart chamber capacity (*Heart Health and Aging*, n.d.). Research on aging arteries and heart by Lakatta and Levy (2003) demonstrates that although heart-related aging may not directly cause heart disease, it leads to increased vulnerability and weakness of the heart, increasing the risk of heart disease.",
    
    "Blood pressure can reflect the health of blood vessels. High blood pressure reduces the supply of blood and oxygen to the heart, and insufficient oxygen levels in the blood may cause heart attacks and heart failure (*High Blood Pressure Symptoms, Causes, and Problems | cdc.gov*, 2021). According to the research on the relation between blood pressure and coronary heart disease in different ages by Franklin et al. (2001), diastolic blood pressure is considered an efficient predictor for this heart disease in people under 50 years old, and other types of blood pressure are also associated with the risks of heart disease in patients with other ages. On the other hand, serum cholesterol values can indicate potential blood flow restrictions in blood vessels (*Warning Signs and Symptoms of Heart Disease*, n.d. & Malota et al., 2018). Law et al. (1994) conclude a possible strong and positive relationship between the value of serum cholesterol and the risk of heart disease by investigating the effect of lower serum cholesterol levels on the probability of heart disease. Law's team provides details about the benefit of lowering serum cholesterol levels in people above 40 years old. A 10% decrease in serum cholesterol will drop the probability of ischaemic heart disease by a range from approximately 20% to 50% depending on age.",
    
    "It seems that the patient's age, resting blood pressure, and serum cholesterol level are closely relevant to heart disease. So, what is the predictive value of these three variables on vessel stenosis? To answer the question, this project will conduct a classification prediction on the vessel stenosis status with a random dataset *Reprocessed Hungarian* (Machine Learning Repository, 1988) which contains all the required variables above."
   ]
  },
  {
   "cell_type": "markdown",
   "id": "0e4a5890-79e1-4477-83d5-18c327745876",
   "metadata": {},
   "source": [
    "## Methods & Results\n",
    ">- describe in written English the methods you used to perform your analysis from beginning to end that narrates the code the does the analysis.\n",
    ">- your report should include code which:\n",
    "    - loads data from the original source on the web \n",
    "    - wrangles and cleans the data from it's original (downloaded) format to the format necessary for the planned analysis\n",
    "    - performs a summary of the data set that is relevant for exploratory data analysis related to the planned analysis \n",
    "    - creates a visualization of the dataset that is relevant for exploratory data analysis related to the planned analysis\n",
    "    - performs the data analysis\n",
    "    - creates a visualization of the analysis \n",
    "    - note: all tables and figure should have a figure/table number and a legend"
   ]
  },
  {
   "cell_type": "code",
   "execution_count": 2,
   "id": "d41833d4-a68c-4400-ba73-f9e90744bd0a",
   "metadata": {
    "tags": []
   },
   "outputs": [
    {
     "name": "stderr",
     "output_type": "stream",
     "text": [
      "── \u001b[1mAttaching core tidyverse packages\u001b[22m ──────────────────────── tidyverse 2.0.0 ──\n",
      "\u001b[32m✔\u001b[39m \u001b[34mdplyr    \u001b[39m 1.1.1     \u001b[32m✔\u001b[39m \u001b[34mreadr    \u001b[39m 2.1.4\n",
      "\u001b[32m✔\u001b[39m \u001b[34mforcats  \u001b[39m 1.0.0     \u001b[32m✔\u001b[39m \u001b[34mstringr  \u001b[39m 1.5.0\n",
      "\u001b[32m✔\u001b[39m \u001b[34mggplot2  \u001b[39m 3.4.1     \u001b[32m✔\u001b[39m \u001b[34mtibble   \u001b[39m 3.2.1\n",
      "\u001b[32m✔\u001b[39m \u001b[34mlubridate\u001b[39m 1.9.2     \u001b[32m✔\u001b[39m \u001b[34mtidyr    \u001b[39m 1.3.0\n",
      "\u001b[32m✔\u001b[39m \u001b[34mpurrr    \u001b[39m 1.0.1     \n",
      "── \u001b[1mConflicts\u001b[22m ────────────────────────────────────────── tidyverse_conflicts() ──\n",
      "\u001b[31m✖\u001b[39m \u001b[34mdplyr\u001b[39m::\u001b[32mfilter()\u001b[39m masks \u001b[34mstats\u001b[39m::filter()\n",
      "\u001b[31m✖\u001b[39m \u001b[34mdplyr\u001b[39m::\u001b[32mlag()\u001b[39m    masks \u001b[34mstats\u001b[39m::lag()\n",
      "\u001b[36mℹ\u001b[39m Use the conflicted package (\u001b[3m\u001b[34m<http://conflicted.r-lib.org/>\u001b[39m\u001b[23m) to force all conflicts to become errors\n",
      "── \u001b[1mAttaching packages\u001b[22m ────────────────────────────────────── tidymodels 1.0.0 ──\n",
      "\n",
      "\u001b[32m✔\u001b[39m \u001b[34mbroom       \u001b[39m 1.0.4     \u001b[32m✔\u001b[39m \u001b[34mrsample     \u001b[39m 1.1.1\n",
      "\u001b[32m✔\u001b[39m \u001b[34mdials       \u001b[39m 1.1.0     \u001b[32m✔\u001b[39m \u001b[34mtune        \u001b[39m 1.0.1\n",
      "\u001b[32m✔\u001b[39m \u001b[34minfer       \u001b[39m 1.0.4     \u001b[32m✔\u001b[39m \u001b[34mworkflows   \u001b[39m 1.1.3\n",
      "\u001b[32m✔\u001b[39m \u001b[34mmodeldata   \u001b[39m 1.1.0     \u001b[32m✔\u001b[39m \u001b[34mworkflowsets\u001b[39m 1.0.0\n",
      "\u001b[32m✔\u001b[39m \u001b[34mparsnip     \u001b[39m 1.0.4     \u001b[32m✔\u001b[39m \u001b[34myardstick   \u001b[39m 1.1.0\n",
      "\u001b[32m✔\u001b[39m \u001b[34mrecipes     \u001b[39m 1.0.5     \n",
      "\n",
      "── \u001b[1mConflicts\u001b[22m ───────────────────────────────────────── tidymodels_conflicts() ──\n",
      "\u001b[31m✖\u001b[39m \u001b[34mscales\u001b[39m::\u001b[32mdiscard()\u001b[39m masks \u001b[34mpurrr\u001b[39m::discard()\n",
      "\u001b[31m✖\u001b[39m \u001b[34mdplyr\u001b[39m::\u001b[32mfilter()\u001b[39m   masks \u001b[34mstats\u001b[39m::filter()\n",
      "\u001b[31m✖\u001b[39m \u001b[34mrecipes\u001b[39m::\u001b[32mfixed()\u001b[39m  masks \u001b[34mstringr\u001b[39m::fixed()\n",
      "\u001b[31m✖\u001b[39m \u001b[34mdplyr\u001b[39m::\u001b[32mlag()\u001b[39m      masks \u001b[34mstats\u001b[39m::lag()\n",
      "\u001b[31m✖\u001b[39m \u001b[34myardstick\u001b[39m::\u001b[32mspec()\u001b[39m masks \u001b[34mreadr\u001b[39m::spec()\n",
      "\u001b[31m✖\u001b[39m \u001b[34mrecipes\u001b[39m::\u001b[32mstep()\u001b[39m   masks \u001b[34mstats\u001b[39m::step()\n",
      "\u001b[34m•\u001b[39m Use \u001b[32mtidymodels_prefer()\u001b[39m to resolve common conflicts.\n",
      "\n"
     ]
    }
   ],
   "source": [
    "# Load libraries\n",
    "library(tidyverse)\n",
    "library(repr)\n",
    "library(tidymodels)"
   ]
  },
  {
   "cell_type": "markdown",
   "id": "9df3cfcc-f52e-44e0-8a10-af0a8b7f474f",
   "metadata": {},
   "source": [
    "### Initial Data Cleaning\n",
    "First, we must download the dataset from the web into R. Since the dataset has no column names, they must be manually set in accordance with the [dataset website](https://archive.ics.uci.edu/ml/datasets/Heart+Disease)."
   ]
  },
  {
   "cell_type": "code",
   "execution_count": 127,
   "id": "a614b2d6-8ced-4f51-85dd-a266f11615a2",
   "metadata": {
    "tags": []
   },
   "outputs": [
    {
     "name": "stderr",
     "output_type": "stream",
     "text": [
      "\u001b[1mRows: \u001b[22m\u001b[34m294\u001b[39m \u001b[1mColumns: \u001b[22m\u001b[34m14\u001b[39m\n",
      "\u001b[36m──\u001b[39m \u001b[1mColumn specification\u001b[22m \u001b[36m────────────────────────────────────────────────────────\u001b[39m\n",
      "\u001b[1mDelimiter:\u001b[22m \" \"\n",
      "\u001b[32mdbl\u001b[39m (14): X1, X2, X3, X4, X5, X6, X7, X8, X9, X10, X11, X12, X13, X14\n",
      "\n",
      "\u001b[36mℹ\u001b[39m Use `spec()` to retrieve the full column specification for this data.\n",
      "\u001b[36mℹ\u001b[39m Specify the column types or set `show_col_types = FALSE` to quiet this message.\n"
     ]
    }
   ],
   "source": [
    "# Read data from source into R\n",
    "heart_data_raw <- read_delim(\"https://archive.ics.uci.edu/ml/machine-learning-databases/heart-disease/reprocessed.hungarian.data\",\n",
    "                                delim = \" \",\n",
    "                                col_names = FALSE)\n",
    "# Map column names\n",
    "colnames(heart_data_raw) <- c(\"age\", \n",
    "                              \"sex\", \n",
    "                              \"cp\", \n",
    "                              \"trestbps\", \n",
    "                              \"chol\", \n",
    "                              \"fbs\", \n",
    "                              \"restecg\",\n",
    "                              \"thalach\", \n",
    "                              \"exang\", \n",
    "                              \"oldpeak\", \n",
    "                              \"slope\", \n",
    "                              \"ca\", \n",
    "                              \"thal\", \n",
    "                              \"num\")"
   ]
  },
  {
   "cell_type": "markdown",
   "id": "ed21c8dc-3532-4f4b-af41-dd8f8031d62b",
   "metadata": {
    "tags": []
   },
   "source": [
    "#### Table 1.1"
   ]
  },
  {
   "cell_type": "code",
   "execution_count": 128,
   "id": "d3c72ac3-84f9-4b84-952c-9f08af4b032f",
   "metadata": {
    "tags": []
   },
   "outputs": [
    {
     "data": {
      "text/html": [
       "<table class=\"dataframe\">\n",
       "<caption>A tibble: 6 × 14</caption>\n",
       "<thead>\n",
       "\t<tr><th scope=col>age</th><th scope=col>sex</th><th scope=col>cp</th><th scope=col>trestbps</th><th scope=col>chol</th><th scope=col>fbs</th><th scope=col>restecg</th><th scope=col>thalach</th><th scope=col>exang</th><th scope=col>oldpeak</th><th scope=col>slope</th><th scope=col>ca</th><th scope=col>thal</th><th scope=col>num</th></tr>\n",
       "\t<tr><th scope=col>&lt;dbl&gt;</th><th scope=col>&lt;dbl&gt;</th><th scope=col>&lt;dbl&gt;</th><th scope=col>&lt;dbl&gt;</th><th scope=col>&lt;dbl&gt;</th><th scope=col>&lt;dbl&gt;</th><th scope=col>&lt;dbl&gt;</th><th scope=col>&lt;dbl&gt;</th><th scope=col>&lt;dbl&gt;</th><th scope=col>&lt;dbl&gt;</th><th scope=col>&lt;dbl&gt;</th><th scope=col>&lt;dbl&gt;</th><th scope=col>&lt;dbl&gt;</th><th scope=col>&lt;dbl&gt;</th></tr>\n",
       "</thead>\n",
       "<tbody>\n",
       "\t<tr><td>40</td><td>1</td><td>2</td><td>140</td><td>289</td><td>0</td><td>0</td><td>172</td><td>0</td><td>0.0</td><td>-9</td><td>-9</td><td>-9</td><td>0</td></tr>\n",
       "\t<tr><td>49</td><td>0</td><td>3</td><td>160</td><td>180</td><td>0</td><td>0</td><td>156</td><td>0</td><td>1.0</td><td> 2</td><td>-9</td><td>-9</td><td>1</td></tr>\n",
       "\t<tr><td>37</td><td>1</td><td>2</td><td>130</td><td>283</td><td>0</td><td>1</td><td> 98</td><td>0</td><td>0.0</td><td>-9</td><td>-9</td><td>-9</td><td>0</td></tr>\n",
       "\t<tr><td>48</td><td>0</td><td>4</td><td>138</td><td>214</td><td>0</td><td>0</td><td>108</td><td>1</td><td>1.5</td><td> 2</td><td>-9</td><td>-9</td><td>3</td></tr>\n",
       "\t<tr><td>54</td><td>1</td><td>3</td><td>150</td><td> -9</td><td>0</td><td>0</td><td>122</td><td>0</td><td>0.0</td><td>-9</td><td>-9</td><td>-9</td><td>0</td></tr>\n",
       "\t<tr><td>39</td><td>1</td><td>3</td><td>120</td><td>339</td><td>0</td><td>0</td><td>170</td><td>0</td><td>0.0</td><td>-9</td><td>-9</td><td>-9</td><td>0</td></tr>\n",
       "</tbody>\n",
       "</table>\n"
      ],
      "text/latex": [
       "A tibble: 6 × 14\n",
       "\\begin{tabular}{llllllllllllll}\n",
       " age & sex & cp & trestbps & chol & fbs & restecg & thalach & exang & oldpeak & slope & ca & thal & num\\\\\n",
       " <dbl> & <dbl> & <dbl> & <dbl> & <dbl> & <dbl> & <dbl> & <dbl> & <dbl> & <dbl> & <dbl> & <dbl> & <dbl> & <dbl>\\\\\n",
       "\\hline\n",
       "\t 40 & 1 & 2 & 140 & 289 & 0 & 0 & 172 & 0 & 0.0 & -9 & -9 & -9 & 0\\\\\n",
       "\t 49 & 0 & 3 & 160 & 180 & 0 & 0 & 156 & 0 & 1.0 &  2 & -9 & -9 & 1\\\\\n",
       "\t 37 & 1 & 2 & 130 & 283 & 0 & 1 &  98 & 0 & 0.0 & -9 & -9 & -9 & 0\\\\\n",
       "\t 48 & 0 & 4 & 138 & 214 & 0 & 0 & 108 & 1 & 1.5 &  2 & -9 & -9 & 3\\\\\n",
       "\t 54 & 1 & 3 & 150 &  -9 & 0 & 0 & 122 & 0 & 0.0 & -9 & -9 & -9 & 0\\\\\n",
       "\t 39 & 1 & 3 & 120 & 339 & 0 & 0 & 170 & 0 & 0.0 & -9 & -9 & -9 & 0\\\\\n",
       "\\end{tabular}\n"
      ],
      "text/markdown": [
       "\n",
       "A tibble: 6 × 14\n",
       "\n",
       "| age &lt;dbl&gt; | sex &lt;dbl&gt; | cp &lt;dbl&gt; | trestbps &lt;dbl&gt; | chol &lt;dbl&gt; | fbs &lt;dbl&gt; | restecg &lt;dbl&gt; | thalach &lt;dbl&gt; | exang &lt;dbl&gt; | oldpeak &lt;dbl&gt; | slope &lt;dbl&gt; | ca &lt;dbl&gt; | thal &lt;dbl&gt; | num &lt;dbl&gt; |\n",
       "|---|---|---|---|---|---|---|---|---|---|---|---|---|---|\n",
       "| 40 | 1 | 2 | 140 | 289 | 0 | 0 | 172 | 0 | 0.0 | -9 | -9 | -9 | 0 |\n",
       "| 49 | 0 | 3 | 160 | 180 | 0 | 0 | 156 | 0 | 1.0 |  2 | -9 | -9 | 1 |\n",
       "| 37 | 1 | 2 | 130 | 283 | 0 | 1 |  98 | 0 | 0.0 | -9 | -9 | -9 | 0 |\n",
       "| 48 | 0 | 4 | 138 | 214 | 0 | 0 | 108 | 1 | 1.5 |  2 | -9 | -9 | 3 |\n",
       "| 54 | 1 | 3 | 150 |  -9 | 0 | 0 | 122 | 0 | 0.0 | -9 | -9 | -9 | 0 |\n",
       "| 39 | 1 | 3 | 120 | 339 | 0 | 0 | 170 | 0 | 0.0 | -9 | -9 | -9 | 0 |\n",
       "\n"
      ],
      "text/plain": [
       "  age sex cp trestbps chol fbs restecg thalach exang oldpeak slope ca thal num\n",
       "1 40  1   2  140      289  0   0       172     0     0.0     -9    -9 -9   0  \n",
       "2 49  0   3  160      180  0   0       156     0     1.0      2    -9 -9   1  \n",
       "3 37  1   2  130      283  0   1        98     0     0.0     -9    -9 -9   0  \n",
       "4 48  0   4  138      214  0   0       108     1     1.5      2    -9 -9   3  \n",
       "5 54  1   3  150       -9  0   0       122     0     0.0     -9    -9 -9   0  \n",
       "6 39  1   3  120      339  0   0       170     0     0.0     -9    -9 -9   0  "
      ]
     },
     "metadata": {},
     "output_type": "display_data"
    }
   ],
   "source": [
    "head(heart_data_raw)"
   ]
  },
  {
   "cell_type": "markdown",
   "id": "7a89db58-d4dc-4794-922d-8e394e265e13",
   "metadata": {},
   "source": [
    "You may notice that some columns have an array of values which seem invalid, such as sex being an integer, or cholesterol levels being -9. This data is thus untidy since the values are not representitive of their actual meanings. First, we will perform the mappings of each column which number their factors (such as sex with 0 meaning female and 1 meaning male)."
   ]
  },
  {
   "cell_type": "code",
   "execution_count": 90,
   "id": "11172fee-efb6-4c1f-97fb-f3c73df6fa4e",
   "metadata": {
    "tags": []
   },
   "outputs": [
    {
     "name": "stderr",
     "output_type": "stream",
     "text": [
      "Warning message:\n",
      "\"\u001b[1m\u001b[22mThere was 1 warning in `mutate()`.\n",
      "\u001b[1m\u001b[22m\u001b[36mℹ\u001b[39m In argument: `fbs = recode(fbs, `0` = FALSE, `1` = TRUE)`.\n",
      "Caused by warning:\n",
      "\u001b[1m\u001b[22m\u001b[33m!\u001b[39m Unreplaced values treated as NA as `.x` is not compatible.\n",
      "Please specify replacements exhaustively or supply `.default`.\"\n",
      "Warning message:\n",
      "\"\u001b[1m\u001b[22mThere was 1 warning in `mutate()`.\n",
      "\u001b[1m\u001b[22m\u001b[36mℹ\u001b[39m In argument: `restecg = recode(restecg, `0` = \"normal\", `1` = \"abnormality\",\n",
      "  `2` = \"ventricular hypertrophy\")`.\n",
      "Caused by warning:\n",
      "\u001b[1m\u001b[22m\u001b[33m!\u001b[39m Unreplaced values treated as NA as `.x` is not compatible.\n",
      "Please specify replacements exhaustively or supply `.default`.\"\n",
      "Warning message:\n",
      "\"\u001b[1m\u001b[22mThere was 1 warning in `mutate()`.\n",
      "\u001b[1m\u001b[22m\u001b[36mℹ\u001b[39m In argument: `exang = recode(exang, `0` = FALSE, `1` = TRUE)`.\n",
      "Caused by warning:\n",
      "\u001b[1m\u001b[22m\u001b[33m!\u001b[39m Unreplaced values treated as NA as `.x` is not compatible.\n",
      "Please specify replacements exhaustively or supply `.default`.\"\n",
      "Warning message:\n",
      "\"\u001b[1m\u001b[22mThere was 1 warning in `mutate()`.\n",
      "\u001b[1m\u001b[22m\u001b[36mℹ\u001b[39m In argument: `slope = recode(slope, `1` = \"upsloping\", `2` = \"flat\", `3` =\n",
      "  \"downsloping\")`.\n",
      "Caused by warning:\n",
      "\u001b[1m\u001b[22m\u001b[33m!\u001b[39m Unreplaced values treated as NA as `.x` is not compatible.\n",
      "Please specify replacements exhaustively or supply `.default`.\"\n",
      "Warning message:\n",
      "\"\u001b[1m\u001b[22mThere was 1 warning in `mutate()`.\n",
      "\u001b[1m\u001b[22m\u001b[36mℹ\u001b[39m In argument: `thal = recode(thal, `3` = \"normal\", `6` = \"fixed defect\", `7` =\n",
      "  \"reversable defect\")`.\n",
      "Caused by warning:\n",
      "\u001b[1m\u001b[22m\u001b[33m!\u001b[39m Unreplaced values treated as NA as `.x` is not compatible.\n",
      "Please specify replacements exhaustively or supply `.default`.\"\n",
      "Warning message:\n",
      "\"\u001b[1m\u001b[22mThere was 1 warning in `mutate()`.\n",
      "\u001b[1m\u001b[22m\u001b[36mℹ\u001b[39m In argument: `num = as_factor(recode(num, `0` = \"<50% narrowing\", `1` = \">50%\n",
      "  narrowing\"))`.\n",
      "Caused by warning:\n",
      "\u001b[1m\u001b[22m\u001b[33m!\u001b[39m Unreplaced values treated as NA as `.x` is not compatible.\n",
      "Please specify replacements exhaustively or supply `.default`.\"\n"
     ]
    }
   ],
   "source": [
    "heart_data_recoded <- heart_data_raw |>\n",
    "    mutate(sex = recode(sex, \n",
    "                        `0` = \"female\", \n",
    "                        `1` = \"male\")) |>\n",
    "    mutate(cp = recode(cp, \n",
    "                       `1` = \"typical angina\",\n",
    "                       `2` = \"atypical angina\",\n",
    "                       `3` = \"non-anginal pain\",\n",
    "                       `4` = \"asymptomatic\")) |>\n",
    "    mutate(fbs = recode(fbs, \n",
    "                        `0` = FALSE, \n",
    "                        `1` = TRUE)) |>\n",
    "    mutate(restecg = recode(restecg, \n",
    "                            `0` = \"normal\", \n",
    "                            `1` = \"abnormality\", \n",
    "                            `2` = \"ventricular hypertrophy\")) |>\n",
    "    mutate(exang = recode(exang, \n",
    "                          `0` = FALSE, \n",
    "                          `1` = TRUE)) |>\n",
    "    mutate(slope = recode(slope, \n",
    "                          `1` = \"upsloping\",\n",
    "                          `2` = \"flat\",\n",
    "                          `3` = \"downsloping\")) |>\n",
    "    mutate(ca = ifelse(ca < 0, NA, ca)) |>\n",
    "    mutate(thal = recode(thal, \n",
    "                         `3` = \"normal\", \n",
    "                         `6` = \"fixed defect\", \n",
    "                         `7` = \"reversable defect\")) |>\n",
    "    mutate(num = as_factor(recode(num, \n",
    "                        `0` = \"<50% narrowing\", \n",
    "                        `1` = \">50% narrowing\")))"
   ]
  },
  {
   "cell_type": "markdown",
   "id": "a6ebc40b-bd47-49e2-aef9-b1ceb3240f47",
   "metadata": {
    "tags": []
   },
   "source": [
    "Then, we will replace invalid values (indicated by a -9 or out of range) with NA."
   ]
  },
  {
   "cell_type": "code",
   "execution_count": 129,
   "id": "f4daf57f-fd4b-4983-9a94-9277c3993d72",
   "metadata": {
    "tags": []
   },
   "outputs": [],
   "source": [
    "heart_data <- heart_data_recoded |>\n",
    "    mutate(chol = ifelse(chol < 0, NA, chol)) |>\n",
    "    mutate(thalach = ifelse(thalach < 0, NA, thalach)) |>\n",
    "    mutate(age = ifelse(age < 0, NA, age)) |>\n",
    "    mutate(trestbps = ifelse(trestbps < 0, NA, age))"
   ]
  },
  {
   "cell_type": "markdown",
   "id": "85b495aa-4f13-4823-8392-a15589baf332",
   "metadata": {},
   "source": [
    "#### Table 1.2"
   ]
  },
  {
   "cell_type": "code",
   "execution_count": 130,
   "id": "a00ad5ff-5b50-4384-8fd4-f7e12345ce32",
   "metadata": {
    "tags": []
   },
   "outputs": [
    {
     "data": {
      "text/html": [
       "<table class=\"dataframe\">\n",
       "<caption>A tibble: 6 × 14</caption>\n",
       "<thead>\n",
       "\t<tr><th scope=col>age</th><th scope=col>sex</th><th scope=col>cp</th><th scope=col>trestbps</th><th scope=col>chol</th><th scope=col>fbs</th><th scope=col>restecg</th><th scope=col>thalach</th><th scope=col>exang</th><th scope=col>oldpeak</th><th scope=col>slope</th><th scope=col>ca</th><th scope=col>thal</th><th scope=col>num</th></tr>\n",
       "\t<tr><th scope=col>&lt;dbl&gt;</th><th scope=col>&lt;chr&gt;</th><th scope=col>&lt;chr&gt;</th><th scope=col>&lt;dbl&gt;</th><th scope=col>&lt;dbl&gt;</th><th scope=col>&lt;lgl&gt;</th><th scope=col>&lt;chr&gt;</th><th scope=col>&lt;dbl&gt;</th><th scope=col>&lt;lgl&gt;</th><th scope=col>&lt;dbl&gt;</th><th scope=col>&lt;chr&gt;</th><th scope=col>&lt;dbl&gt;</th><th scope=col>&lt;chr&gt;</th><th scope=col>&lt;fct&gt;</th></tr>\n",
       "</thead>\n",
       "<tbody>\n",
       "\t<tr><td>40</td><td><span style=white-space:pre-wrap>male  </span></td><td>atypical angina </td><td>40</td><td>289</td><td>FALSE</td><td><span style=white-space:pre-wrap>normal     </span></td><td>172</td><td>FALSE</td><td>0.0</td><td><span style=white-space:pre-wrap>NA  </span></td><td>NA</td><td>NA</td><td>&lt;50% narrowing</td></tr>\n",
       "\t<tr><td>49</td><td>female</td><td>non-anginal pain</td><td>49</td><td>180</td><td>FALSE</td><td><span style=white-space:pre-wrap>normal     </span></td><td>156</td><td>FALSE</td><td>1.0</td><td>flat</td><td>NA</td><td>NA</td><td>&gt;50% narrowing</td></tr>\n",
       "\t<tr><td>37</td><td><span style=white-space:pre-wrap>male  </span></td><td>atypical angina </td><td>37</td><td>283</td><td>FALSE</td><td>abnormality</td><td> 98</td><td>FALSE</td><td>0.0</td><td><span style=white-space:pre-wrap>NA  </span></td><td>NA</td><td>NA</td><td>&lt;50% narrowing</td></tr>\n",
       "\t<tr><td>48</td><td>female</td><td>asymptomatic    </td><td>48</td><td>214</td><td>FALSE</td><td>normal     </td><td>108</td><td> TRUE</td><td>1.5</td><td>flat</td><td>NA</td><td>NA</td><td>NA            </td></tr>\n",
       "\t<tr><td>54</td><td><span style=white-space:pre-wrap>male  </span></td><td>non-anginal pain</td><td>54</td><td> NA</td><td>FALSE</td><td><span style=white-space:pre-wrap>normal     </span></td><td>122</td><td>FALSE</td><td>0.0</td><td><span style=white-space:pre-wrap>NA  </span></td><td>NA</td><td>NA</td><td>&lt;50% narrowing</td></tr>\n",
       "\t<tr><td>39</td><td><span style=white-space:pre-wrap>male  </span></td><td>non-anginal pain</td><td>39</td><td>339</td><td>FALSE</td><td><span style=white-space:pre-wrap>normal     </span></td><td>170</td><td>FALSE</td><td>0.0</td><td><span style=white-space:pre-wrap>NA  </span></td><td>NA</td><td>NA</td><td>&lt;50% narrowing</td></tr>\n",
       "</tbody>\n",
       "</table>\n"
      ],
      "text/latex": [
       "A tibble: 6 × 14\n",
       "\\begin{tabular}{llllllllllllll}\n",
       " age & sex & cp & trestbps & chol & fbs & restecg & thalach & exang & oldpeak & slope & ca & thal & num\\\\\n",
       " <dbl> & <chr> & <chr> & <dbl> & <dbl> & <lgl> & <chr> & <dbl> & <lgl> & <dbl> & <chr> & <dbl> & <chr> & <fct>\\\\\n",
       "\\hline\n",
       "\t 40 & male   & atypical angina  & 40 & 289 & FALSE & normal      & 172 & FALSE & 0.0 & NA   & NA & NA & <50\\% narrowing\\\\\n",
       "\t 49 & female & non-anginal pain & 49 & 180 & FALSE & normal      & 156 & FALSE & 1.0 & flat & NA & NA & >50\\% narrowing\\\\\n",
       "\t 37 & male   & atypical angina  & 37 & 283 & FALSE & abnormality &  98 & FALSE & 0.0 & NA   & NA & NA & <50\\% narrowing\\\\\n",
       "\t 48 & female & asymptomatic     & 48 & 214 & FALSE & normal      & 108 &  TRUE & 1.5 & flat & NA & NA & NA            \\\\\n",
       "\t 54 & male   & non-anginal pain & 54 &  NA & FALSE & normal      & 122 & FALSE & 0.0 & NA   & NA & NA & <50\\% narrowing\\\\\n",
       "\t 39 & male   & non-anginal pain & 39 & 339 & FALSE & normal      & 170 & FALSE & 0.0 & NA   & NA & NA & <50\\% narrowing\\\\\n",
       "\\end{tabular}\n"
      ],
      "text/markdown": [
       "\n",
       "A tibble: 6 × 14\n",
       "\n",
       "| age &lt;dbl&gt; | sex &lt;chr&gt; | cp &lt;chr&gt; | trestbps &lt;dbl&gt; | chol &lt;dbl&gt; | fbs &lt;lgl&gt; | restecg &lt;chr&gt; | thalach &lt;dbl&gt; | exang &lt;lgl&gt; | oldpeak &lt;dbl&gt; | slope &lt;chr&gt; | ca &lt;dbl&gt; | thal &lt;chr&gt; | num &lt;fct&gt; |\n",
       "|---|---|---|---|---|---|---|---|---|---|---|---|---|---|\n",
       "| 40 | male   | atypical angina  | 40 | 289 | FALSE | normal      | 172 | FALSE | 0.0 | NA   | NA | NA | &lt;50% narrowing |\n",
       "| 49 | female | non-anginal pain | 49 | 180 | FALSE | normal      | 156 | FALSE | 1.0 | flat | NA | NA | &gt;50% narrowing |\n",
       "| 37 | male   | atypical angina  | 37 | 283 | FALSE | abnormality |  98 | FALSE | 0.0 | NA   | NA | NA | &lt;50% narrowing |\n",
       "| 48 | female | asymptomatic     | 48 | 214 | FALSE | normal      | 108 |  TRUE | 1.5 | flat | NA | NA | NA             |\n",
       "| 54 | male   | non-anginal pain | 54 |  NA | FALSE | normal      | 122 | FALSE | 0.0 | NA   | NA | NA | &lt;50% narrowing |\n",
       "| 39 | male   | non-anginal pain | 39 | 339 | FALSE | normal      | 170 | FALSE | 0.0 | NA   | NA | NA | &lt;50% narrowing |\n",
       "\n"
      ],
      "text/plain": [
       "  age sex    cp               trestbps chol fbs   restecg     thalach exang\n",
       "1 40  male   atypical angina  40       289  FALSE normal      172     FALSE\n",
       "2 49  female non-anginal pain 49       180  FALSE normal      156     FALSE\n",
       "3 37  male   atypical angina  37       283  FALSE abnormality  98     FALSE\n",
       "4 48  female asymptomatic     48       214  FALSE normal      108      TRUE\n",
       "5 54  male   non-anginal pain 54        NA  FALSE normal      122     FALSE\n",
       "6 39  male   non-anginal pain 39       339  FALSE normal      170     FALSE\n",
       "  oldpeak slope ca thal num           \n",
       "1 0.0     NA    NA NA   <50% narrowing\n",
       "2 1.0     flat  NA NA   >50% narrowing\n",
       "3 0.0     NA    NA NA   <50% narrowing\n",
       "4 1.5     flat  NA NA   NA            \n",
       "5 0.0     NA    NA NA   <50% narrowing\n",
       "6 0.0     NA    NA NA   <50% narrowing"
      ]
     },
     "metadata": {},
     "output_type": "display_data"
    }
   ],
   "source": [
    "head(heart_data)"
   ]
  },
  {
   "cell_type": "markdown",
   "id": "1ba75fd8-3ef0-4968-a4e0-566128a8dc83",
   "metadata": {},
   "source": [
    "In order to train our model, we cannot have anything in our predictor columns be NA, so these rows will be removed."
   ]
  },
  {
   "cell_type": "code",
   "execution_count": 131,
   "id": "9629d615-6214-434f-92ae-1f60538713ba",
   "metadata": {
    "tags": []
   },
   "outputs": [],
   "source": [
    "heart_data <- heart_data |>\n",
    "    filter(!is.na(num) & !is.na(chol) & !is.na(trestbps) & !is.na(age))"
   ]
  },
  {
   "cell_type": "markdown",
   "id": "0fea9e24-2159-45fc-8801-4776690be375",
   "metadata": {},
   "source": [
    "Now we will split the data into training and testing sets to ensure our analysis and model can be tested against data it has not seen."
   ]
  },
  {
   "cell_type": "code",
   "execution_count": 132,
   "id": "28f09076-e872-41e8-8a5e-d265a82bed81",
   "metadata": {
    "tags": []
   },
   "outputs": [],
   "source": [
    "set.seed(45678)\n",
    "\n",
    "heart_data_split <- initial_split(heart_data, prop = 0.7, strata = num)\n",
    "heart_training <- training(heart_data_split)\n",
    "heart_testing <- testing(heart_data_split)"
   ]
  },
  {
   "cell_type": "markdown",
   "id": "389e50bb-6f89-4c11-9188-6f672c6f3d8a",
   "metadata": {},
   "source": [
    "### Exploratory Data Analysis\n",
    "Now we will get a rough idea of some of the relationships in our data.\n",
    "\n",
    "First, we will see how many individuals are charactarized with each chest pain type to get an idea of how many symptomatic individuals we are dealing with in the dataset."
   ]
  },
  {
   "cell_type": "markdown",
   "id": "6da625a5-8336-4dd1-b1f2-903aa65397a7",
   "metadata": {},
   "source": [
    "#### Table 2.1"
   ]
  },
  {
   "cell_type": "code",
   "execution_count": 133,
   "id": "e90042ca-926f-4e22-b607-194bdd5d9c9f",
   "metadata": {
    "tags": []
   },
   "outputs": [
    {
     "data": {
      "text/html": [
       "<table class=\"dataframe\">\n",
       "<caption>A tibble: 4 × 2</caption>\n",
       "<thead>\n",
       "\t<tr><th scope=col>cp</th><th scope=col>total</th></tr>\n",
       "\t<tr><th scope=col>&lt;chr&gt;</th><th scope=col>&lt;int&gt;</th></tr>\n",
       "</thead>\n",
       "<tbody>\n",
       "\t<tr><td>asymptomatic    </td><td>46</td></tr>\n",
       "\t<tr><td>atypical angina </td><td>59</td></tr>\n",
       "\t<tr><td>non-anginal pain</td><td>33</td></tr>\n",
       "\t<tr><td>typical angina  </td><td> 5</td></tr>\n",
       "</tbody>\n",
       "</table>\n"
      ],
      "text/latex": [
       "A tibble: 4 × 2\n",
       "\\begin{tabular}{ll}\n",
       " cp & total\\\\\n",
       " <chr> & <int>\\\\\n",
       "\\hline\n",
       "\t asymptomatic     & 46\\\\\n",
       "\t atypical angina  & 59\\\\\n",
       "\t non-anginal pain & 33\\\\\n",
       "\t typical angina   &  5\\\\\n",
       "\\end{tabular}\n"
      ],
      "text/markdown": [
       "\n",
       "A tibble: 4 × 2\n",
       "\n",
       "| cp &lt;chr&gt; | total &lt;int&gt; |\n",
       "|---|---|\n",
       "| asymptomatic     | 46 |\n",
       "| atypical angina  | 59 |\n",
       "| non-anginal pain | 33 |\n",
       "| typical angina   |  5 |\n",
       "\n"
      ],
      "text/plain": [
       "  cp               total\n",
       "1 asymptomatic     46   \n",
       "2 atypical angina  59   \n",
       "3 non-anginal pain 33   \n",
       "4 typical angina    5   "
      ]
     },
     "metadata": {},
     "output_type": "display_data"
    }
   ],
   "source": [
    "chest_pain_counts <- count(heart_training, cp) |>\n",
    "    mutate(total = n) |>\n",
    "    select(-n)\n",
    "chest_pain_counts"
   ]
  },
  {
   "cell_type": "markdown",
   "id": "577b8838-f9ca-4cdc-ad1f-a83868426e53",
   "metadata": {},
   "source": [
    "Next, we will look at the number of regular and irregular ECG readings from individuals in the dataset."
   ]
  },
  {
   "cell_type": "markdown",
   "id": "b35d5b48-560b-41d7-a167-e7f3ba0bd4e6",
   "metadata": {},
   "source": [
    "#### Table 2.2"
   ]
  },
  {
   "cell_type": "code",
   "execution_count": 134,
   "id": "879e47ba-d35c-4b44-9fb4-5e661b5421fd",
   "metadata": {
    "tags": []
   },
   "outputs": [
    {
     "data": {
      "text/html": [
       "<table class=\"dataframe\">\n",
       "<caption>A tibble: 3 × 2</caption>\n",
       "<thead>\n",
       "\t<tr><th scope=col>restecg</th><th scope=col>total</th></tr>\n",
       "\t<tr><th scope=col>&lt;chr&gt;</th><th scope=col>&lt;int&gt;</th></tr>\n",
       "</thead>\n",
       "<tbody>\n",
       "\t<tr><td>abnormality            </td><td> 18</td></tr>\n",
       "\t<tr><td>normal                 </td><td>120</td></tr>\n",
       "\t<tr><td>ventricular hypertrophy</td><td>  5</td></tr>\n",
       "</tbody>\n",
       "</table>\n"
      ],
      "text/latex": [
       "A tibble: 3 × 2\n",
       "\\begin{tabular}{ll}\n",
       " restecg & total\\\\\n",
       " <chr> & <int>\\\\\n",
       "\\hline\n",
       "\t abnormality             &  18\\\\\n",
       "\t normal                  & 120\\\\\n",
       "\t ventricular hypertrophy &   5\\\\\n",
       "\\end{tabular}\n"
      ],
      "text/markdown": [
       "\n",
       "A tibble: 3 × 2\n",
       "\n",
       "| restecg &lt;chr&gt; | total &lt;int&gt; |\n",
       "|---|---|\n",
       "| abnormality             |  18 |\n",
       "| normal                  | 120 |\n",
       "| ventricular hypertrophy |   5 |\n",
       "\n"
      ],
      "text/plain": [
       "  restecg                 total\n",
       "1 abnormality              18  \n",
       "2 normal                  120  \n",
       "3 ventricular hypertrophy   5  "
      ]
     },
     "metadata": {},
     "output_type": "display_data"
    }
   ],
   "source": [
    "restecg_counts <- count(heart_training, restecg) |>\n",
    "    mutate(total = n) |>\n",
    "    select(-n)\n",
    "restecg_counts"
   ]
  },
  {
   "cell_type": "markdown",
   "id": "9e748e25-b265-421f-802e-86ad4af69779",
   "metadata": {},
   "source": [
    "Now we will look at only individuals with abnormal ECG results; by contrasting the chest pain type versus the total amount, we can get an idea of relationships between ECG type and chest pain. As well, we will compare the type of chest pain versus the total chest pain count for all individuals."
   ]
  },
  {
   "cell_type": "markdown",
   "id": "327e6ad6-2d9c-4776-b925-5a74e0f5683c",
   "metadata": {},
   "source": [
    "#### Table 2.3"
   ]
  },
  {
   "cell_type": "code",
   "execution_count": 135,
   "id": "6fbdeb1c-d237-4181-a2b0-946ca9bbc6d4",
   "metadata": {
    "tags": []
   },
   "outputs": [
    {
     "data": {
      "text/html": [
       "<table class=\"dataframe\">\n",
       "<caption>A tibble: 4 × 4</caption>\n",
       "<thead>\n",
       "\t<tr><th scope=col>cp</th><th scope=col>n</th><th scope=col>total</th><th scope=col>percent_total</th></tr>\n",
       "\t<tr><th scope=col>&lt;chr&gt;</th><th scope=col>&lt;int&gt;</th><th scope=col>&lt;int&gt;</th><th scope=col>&lt;dbl&gt;</th></tr>\n",
       "</thead>\n",
       "<tbody>\n",
       "\t<tr><td>asymptomatic    </td><td>6</td><td>46</td><td>13.04348</td></tr>\n",
       "\t<tr><td>atypical angina </td><td>6</td><td>59</td><td>10.16949</td></tr>\n",
       "\t<tr><td>non-anginal pain</td><td>5</td><td>33</td><td>15.15152</td></tr>\n",
       "\t<tr><td>typical angina  </td><td>1</td><td> 5</td><td>20.00000</td></tr>\n",
       "</tbody>\n",
       "</table>\n"
      ],
      "text/latex": [
       "A tibble: 4 × 4\n",
       "\\begin{tabular}{llll}\n",
       " cp & n & total & percent\\_total\\\\\n",
       " <chr> & <int> & <int> & <dbl>\\\\\n",
       "\\hline\n",
       "\t asymptomatic     & 6 & 46 & 13.04348\\\\\n",
       "\t atypical angina  & 6 & 59 & 10.16949\\\\\n",
       "\t non-anginal pain & 5 & 33 & 15.15152\\\\\n",
       "\t typical angina   & 1 &  5 & 20.00000\\\\\n",
       "\\end{tabular}\n"
      ],
      "text/markdown": [
       "\n",
       "A tibble: 4 × 4\n",
       "\n",
       "| cp &lt;chr&gt; | n &lt;int&gt; | total &lt;int&gt; | percent_total &lt;dbl&gt; |\n",
       "|---|---|---|---|\n",
       "| asymptomatic     | 6 | 46 | 13.04348 |\n",
       "| atypical angina  | 6 | 59 | 10.16949 |\n",
       "| non-anginal pain | 5 | 33 | 15.15152 |\n",
       "| typical angina   | 1 |  5 | 20.00000 |\n",
       "\n"
      ],
      "text/plain": [
       "  cp               n total percent_total\n",
       "1 asymptomatic     6 46    13.04348     \n",
       "2 atypical angina  6 59    10.16949     \n",
       "3 non-anginal pain 5 33    15.15152     \n",
       "4 typical angina   1  5    20.00000     "
      ]
     },
     "metadata": {},
     "output_type": "display_data"
    }
   ],
   "source": [
    "abnormal_restecg_chest_pain_counts <- heart_training |>\n",
    "    filter(restecg == \"abnormality\") |>\n",
    "    count(cp) |>\n",
    "    bind_cols(select(chest_pain_counts, total)) |>\n",
    "    mutate(percent_total = n / total * 100)\n",
    "abnormal_restecg_chest_pain_counts"
   ]
  },
  {
   "cell_type": "markdown",
   "id": "399dbee1-6c32-4e79-898f-2f3ec43dad77",
   "metadata": {},
   "source": [
    "We can get an idea of the relationship between age and resting ECG abormality by plotting a distribution of resting ECG results against age."
   ]
  },
  {
   "cell_type": "code",
   "execution_count": 136,
   "id": "75efa791-9230-44bc-b355-b9c0834037a8",
   "metadata": {
    "tags": []
   },
   "outputs": [],
   "source": [
    "options(repr.plot.height = 5, repr.plot.width = 10)\n",
    "\n",
    "age_vs_ecg_plot <- heart_training |>\n",
    "    filter(!is.na(restecg)) |>\n",
    "    ggplot(aes(x = age, fill = as_factor(restecg))) +\n",
    "    geom_histogram(position = \"identity\", binwidth = 1) +\n",
    "    labs(fill = \"Resting ECG Abnormality\") +\n",
    "    xlab(\"Age\") +\n",
    "    ylab(\"Count\") +\n",
    "    ggtitle(\"Age Distribution and Resting ECG Abnormality\")"
   ]
  },
  {
   "cell_type": "markdown",
   "id": "c578eabb-7f12-48ca-8694-55d44ee76004",
   "metadata": {},
   "source": [
    "#### Figure 2.4"
   ]
  },
  {
   "cell_type": "code",
   "execution_count": 138,
   "id": "71ee91c5-7c4c-467a-83ce-a8405290f029",
   "metadata": {
    "tags": []
   },
   "outputs": [
    {
     "data": {
      "image/png": "[encoded data removed]",
      "text/plain": [
       "plot without title"
      ]
     },
     "metadata": {
      "image/png": {
       "height": 300,
       "width": 600
      }
     },
     "output_type": "display_data"
    }
   ],
   "source": [
    "age_vs_ecg_plot"
   ]
  },
  {
   "cell_type": "markdown",
   "id": "5a91d3a4-c3aa-4476-a484-f3f3a415eeca",
   "metadata": {},
   "source": [
    "A couple things are revealed in this graph; firstly, our dataset is primarily older indivuduals. Second, there appears to be a slight positive correlation between abnormality and age.\n",
    "\n",
    "Now, we will attempt to see if there is a relationship between serum cholesterol and resting blood pressure. We would expect there to be a positive correlation as there is often a stigma between high cholesterol and high blood pressure. This will be done in a scatterplot:"
   ]
  },
  {
   "cell_type": "code",
   "execution_count": 139,
   "id": "90016b3c-06a0-4674-959f-864e8f60a307",
   "metadata": {
    "tags": []
   },
   "outputs": [],
   "source": [
    "options(repr.plot.height = 5, repr.plot.width = 9)\n",
    "\n",
    "chol_vs_rhr_plot <- heart_training |>\n",
    "    ggplot(aes(x = chol, y = trestbps, color = cp)) +\n",
    "    geom_point() +\n",
    "    xlab(\"Serum Cholesterol (mg/dL)\") +\n",
    "    ylab(\"Resting Blood Pressure (mm Hg)\") +\n",
    "    labs(color = \"Chest Pain Type\") +\n",
    "    ggtitle(\"Serum Cholesterol vs Resting Blood Pressure\")"
   ]
  },
  {
   "cell_type": "markdown",
   "id": "09627502-52d2-4d4f-b0fa-4580734375c4",
   "metadata": {},
   "source": [
    "#### Figure 2.5"
   ]
  },
  {
   "cell_type": "code",
   "execution_count": 140,
   "id": "82299012-6281-4394-9f7f-56ee8131f414",
   "metadata": {
    "tags": []
   },
   "outputs": [
    {
     "data": {
      "image/png": "[encoded data removed]",
      "text/plain": [
       "plot without title"
      ]
     },
     "metadata": {
      "image/png": {
       "height": 300,
       "width": 540
      }
     },
     "output_type": "display_data"
    }
   ],
   "source": [
    "chol_vs_rhr_plot"
   ]
  },
  {
   "cell_type": "markdown",
   "id": "ed887ad6-c232-4ddc-8b05-83266a20c4cc",
   "metadata": {},
   "source": [
    "The resulting plot seems somewhat inconlusive, but there may be a slight positive correlation between the two variables."
   ]
  },
  {
   "cell_type": "markdown",
   "id": "3f56b69d-9c52-4643-9b20-71e9cc44c09c",
   "metadata": {},
   "source": [
    "### Model Setup\n",
    "First we will create the recipe for our classification model with our actual value being vessicle narrowing (num), and the predicors being age, chest pain type (cp), resting blood pressure (trestbps), and serum cholesterol (chol). Then, we will scale and center all predictors to ensure that euclidean distance is calculated properly across variables."
   ]
  },
  {
   "cell_type": "code",
   "execution_count": 141,
   "id": "d3045872-b863-4450-913a-fb2f0cff0f0d",
   "metadata": {
    "tags": []
   },
   "outputs": [],
   "source": [
    "# Create recipe to predict num based on age, trestbps, and chol\n",
    "heart_recipe <- recipe(num ~ age + trestbps + chol, data = heart_training) |>\n",
    "    step_scale(all_predictors()) |>\n",
    "    step_center(all_predictors())"
   ]
  },
  {
   "cell_type": "markdown",
   "id": "d2ad649a-f369-48d2-ada4-88beb728fc1e",
   "metadata": {},
   "source": [
    "Now to make the specification and workflow objects for our model using 5-fold cross validation."
   ]
  },
  {
   "cell_type": "code",
   "execution_count": 142,
   "id": "8d936adc-6a87-4814-af49-e8c06625ae41",
   "metadata": {
    "tags": []
   },
   "outputs": [],
   "source": [
    "# Create vfold for cross-validation\n",
    "heart_vfold <- vfold_cv(heart_training, v = 5, strata = num)\n",
    "\n",
    "# Create model specification set to tune for an optimal K value\n",
    "knn_spec <- nearest_neighbor(weight_func = \"rectangular\", neighbors = tune()) |>\n",
    "  set_engine(\"kknn\") |>\n",
    "  set_mode(\"classification\")\n",
    "\n",
    "# Create a tibble for k-vals to test\n",
    "k_vals <- tibble(neighbors = 1:15)\n",
    "\n",
    "# Get model resuklts\n",
    "knn_results <- workflow() |>\n",
    "    add_recipe(heart_recipe) |>\n",
    "    add_model(knn_spec) |>\n",
    "    tune_grid(resamples = heart_vfold, grid = k_vals) |>\n",
    "    collect_metrics()\n",
    "\n",
    "# Filter for accuracy only\n",
    "accuracies <- knn_results |>\n",
    "    filter(.metric == \"accuracy\")"
   ]
  },
  {
   "cell_type": "markdown",
   "id": "cbf9bd53-1f15-4571-9454-11e471afe207",
   "metadata": {},
   "source": [
    "#### Table 3.1"
   ]
  },
  {
   "cell_type": "code",
   "execution_count": 146,
   "id": "c8a85a71-b207-4ef2-83d1-92433174f5b2",
   "metadata": {
    "tags": []
   },
   "outputs": [
    {
     "data": {
      "text/html": [
       "<table class=\"dataframe\">\n",
       "<caption>A tibble: 15 × 7</caption>\n",
       "<thead>\n",
       "\t<tr><th scope=col>neighbors</th><th scope=col>.metric</th><th scope=col>.estimator</th><th scope=col>mean</th><th scope=col>n</th><th scope=col>std_err</th><th scope=col>.config</th></tr>\n",
       "\t<tr><th scope=col>&lt;int&gt;</th><th scope=col>&lt;chr&gt;</th><th scope=col>&lt;chr&gt;</th><th scope=col>&lt;dbl&gt;</th><th scope=col>&lt;int&gt;</th><th scope=col>&lt;dbl&gt;</th><th scope=col>&lt;chr&gt;</th></tr>\n",
       "</thead>\n",
       "<tbody>\n",
       "\t<tr><td> 1</td><td>accuracy</td><td>binary</td><td>0.7406404</td><td>5</td><td>0.025542240</td><td>Preprocessor1_Model01</td></tr>\n",
       "\t<tr><td> 2</td><td>accuracy</td><td>binary</td><td>0.7406404</td><td>5</td><td>0.025542240</td><td>Preprocessor1_Model02</td></tr>\n",
       "\t<tr><td> 3</td><td>accuracy</td><td>binary</td><td>0.7901478</td><td>5</td><td>0.025147289</td><td>Preprocessor1_Model03</td></tr>\n",
       "\t<tr><td> 4</td><td>accuracy</td><td>binary</td><td>0.7901478</td><td>5</td><td>0.025147289</td><td>Preprocessor1_Model04</td></tr>\n",
       "\t<tr><td> 5</td><td>accuracy</td><td>binary</td><td>0.7975369</td><td>5</td><td>0.019302395</td><td>Preprocessor1_Model05</td></tr>\n",
       "\t<tr><td> 6</td><td>accuracy</td><td>binary</td><td>0.7975369</td><td>5</td><td>0.019302395</td><td>Preprocessor1_Model06</td></tr>\n",
       "\t<tr><td> 7</td><td>accuracy</td><td>binary</td><td>0.8113300</td><td>5</td><td>0.023070681</td><td>Preprocessor1_Model07</td></tr>\n",
       "\t<tr><td> 8</td><td>accuracy</td><td>binary</td><td>0.8113300</td><td>5</td><td>0.023070681</td><td>Preprocessor1_Model08</td></tr>\n",
       "\t<tr><td> 9</td><td>accuracy</td><td>binary</td><td>0.8182266</td><td>5</td><td>0.006429940</td><td>Preprocessor1_Model09</td></tr>\n",
       "\t<tr><td>10</td><td>accuracy</td><td>binary</td><td>0.8182266</td><td>5</td><td>0.006429940</td><td>Preprocessor1_Model10</td></tr>\n",
       "\t<tr><td>11</td><td>accuracy</td><td>binary</td><td>0.8251232</td><td>5</td><td>0.001508306</td><td>Preprocessor1_Model11</td></tr>\n",
       "\t<tr><td>12</td><td>accuracy</td><td>binary</td><td>0.8251232</td><td>5</td><td>0.001508306</td><td>Preprocessor1_Model12</td></tr>\n",
       "\t<tr><td>13</td><td>accuracy</td><td>binary</td><td>0.8251232</td><td>5</td><td>0.001508306</td><td>Preprocessor1_Model13</td></tr>\n",
       "\t<tr><td>14</td><td>accuracy</td><td>binary</td><td>0.8251232</td><td>5</td><td>0.001508306</td><td>Preprocessor1_Model14</td></tr>\n",
       "\t<tr><td>15</td><td>accuracy</td><td>binary</td><td>0.8251232</td><td>5</td><td>0.001508306</td><td>Preprocessor1_Model15</td></tr>\n",
       "</tbody>\n",
       "</table>\n"
      ],
      "text/latex": [
       "A tibble: 15 × 7\n",
       "\\begin{tabular}{lllllll}\n",
       " neighbors & .metric & .estimator & mean & n & std\\_err & .config\\\\\n",
       " <int> & <chr> & <chr> & <dbl> & <int> & <dbl> & <chr>\\\\\n",
       "\\hline\n",
       "\t  1 & accuracy & binary & 0.7406404 & 5 & 0.025542240 & Preprocessor1\\_Model01\\\\\n",
       "\t  2 & accuracy & binary & 0.7406404 & 5 & 0.025542240 & Preprocessor1\\_Model02\\\\\n",
       "\t  3 & accuracy & binary & 0.7901478 & 5 & 0.025147289 & Preprocessor1\\_Model03\\\\\n",
       "\t  4 & accuracy & binary & 0.7901478 & 5 & 0.025147289 & Preprocessor1\\_Model04\\\\\n",
       "\t  5 & accuracy & binary & 0.7975369 & 5 & 0.019302395 & Preprocessor1\\_Model05\\\\\n",
       "\t  6 & accuracy & binary & 0.7975369 & 5 & 0.019302395 & Preprocessor1\\_Model06\\\\\n",
       "\t  7 & accuracy & binary & 0.8113300 & 5 & 0.023070681 & Preprocessor1\\_Model07\\\\\n",
       "\t  8 & accuracy & binary & 0.8113300 & 5 & 0.023070681 & Preprocessor1\\_Model08\\\\\n",
       "\t  9 & accuracy & binary & 0.8182266 & 5 & 0.006429940 & Preprocessor1\\_Model09\\\\\n",
       "\t 10 & accuracy & binary & 0.8182266 & 5 & 0.006429940 & Preprocessor1\\_Model10\\\\\n",
       "\t 11 & accuracy & binary & 0.8251232 & 5 & 0.001508306 & Preprocessor1\\_Model11\\\\\n",
       "\t 12 & accuracy & binary & 0.8251232 & 5 & 0.001508306 & Preprocessor1\\_Model12\\\\\n",
       "\t 13 & accuracy & binary & 0.8251232 & 5 & 0.001508306 & Preprocessor1\\_Model13\\\\\n",
       "\t 14 & accuracy & binary & 0.8251232 & 5 & 0.001508306 & Preprocessor1\\_Model14\\\\\n",
       "\t 15 & accuracy & binary & 0.8251232 & 5 & 0.001508306 & Preprocessor1\\_Model15\\\\\n",
       "\\end{tabular}\n"
      ],
      "text/markdown": [
       "\n",
       "A tibble: 15 × 7\n",
       "\n",
       "| neighbors &lt;int&gt; | .metric &lt;chr&gt; | .estimator &lt;chr&gt; | mean &lt;dbl&gt; | n &lt;int&gt; | std_err &lt;dbl&gt; | .config &lt;chr&gt; |\n",
       "|---|---|---|---|---|---|---|\n",
       "|  1 | accuracy | binary | 0.7406404 | 5 | 0.025542240 | Preprocessor1_Model01 |\n",
       "|  2 | accuracy | binary | 0.7406404 | 5 | 0.025542240 | Preprocessor1_Model02 |\n",
       "|  3 | accuracy | binary | 0.7901478 | 5 | 0.025147289 | Preprocessor1_Model03 |\n",
       "|  4 | accuracy | binary | 0.7901478 | 5 | 0.025147289 | Preprocessor1_Model04 |\n",
       "|  5 | accuracy | binary | 0.7975369 | 5 | 0.019302395 | Preprocessor1_Model05 |\n",
       "|  6 | accuracy | binary | 0.7975369 | 5 | 0.019302395 | Preprocessor1_Model06 |\n",
       "|  7 | accuracy | binary | 0.8113300 | 5 | 0.023070681 | Preprocessor1_Model07 |\n",
       "|  8 | accuracy | binary | 0.8113300 | 5 | 0.023070681 | Preprocessor1_Model08 |\n",
       "|  9 | accuracy | binary | 0.8182266 | 5 | 0.006429940 | Preprocessor1_Model09 |\n",
       "| 10 | accuracy | binary | 0.8182266 | 5 | 0.006429940 | Preprocessor1_Model10 |\n",
       "| 11 | accuracy | binary | 0.8251232 | 5 | 0.001508306 | Preprocessor1_Model11 |\n",
       "| 12 | accuracy | binary | 0.8251232 | 5 | 0.001508306 | Preprocessor1_Model12 |\n",
       "| 13 | accuracy | binary | 0.8251232 | 5 | 0.001508306 | Preprocessor1_Model13 |\n",
       "| 14 | accuracy | binary | 0.8251232 | 5 | 0.001508306 | Preprocessor1_Model14 |\n",
       "| 15 | accuracy | binary | 0.8251232 | 5 | 0.001508306 | Preprocessor1_Model15 |\n",
       "\n"
      ],
      "text/plain": [
       "   neighbors .metric  .estimator mean      n std_err     .config              \n",
       "1   1        accuracy binary     0.7406404 5 0.025542240 Preprocessor1_Model01\n",
       "2   2        accuracy binary     0.7406404 5 0.025542240 Preprocessor1_Model02\n",
       "3   3        accuracy binary     0.7901478 5 0.025147289 Preprocessor1_Model03\n",
       "4   4        accuracy binary     0.7901478 5 0.025147289 Preprocessor1_Model04\n",
       "5   5        accuracy binary     0.7975369 5 0.019302395 Preprocessor1_Model05\n",
       "6   6        accuracy binary     0.7975369 5 0.019302395 Preprocessor1_Model06\n",
       "7   7        accuracy binary     0.8113300 5 0.023070681 Preprocessor1_Model07\n",
       "8   8        accuracy binary     0.8113300 5 0.023070681 Preprocessor1_Model08\n",
       "9   9        accuracy binary     0.8182266 5 0.006429940 Preprocessor1_Model09\n",
       "10 10        accuracy binary     0.8182266 5 0.006429940 Preprocessor1_Model10\n",
       "11 11        accuracy binary     0.8251232 5 0.001508306 Preprocessor1_Model11\n",
       "12 12        accuracy binary     0.8251232 5 0.001508306 Preprocessor1_Model12\n",
       "13 13        accuracy binary     0.8251232 5 0.001508306 Preprocessor1_Model13\n",
       "14 14        accuracy binary     0.8251232 5 0.001508306 Preprocessor1_Model14\n",
       "15 15        accuracy binary     0.8251232 5 0.001508306 Preprocessor1_Model15"
      ]
     },
     "metadata": {},
     "output_type": "display_data"
    }
   ],
   "source": [
    "accuracies"
   ]
  },
  {
   "cell_type": "markdown",
   "id": "380dcd69-76bf-4ee7-a19d-65ace570a9e2",
   "metadata": {},
   "source": [
    "In order to see which k-val we should use, we will plot these accuracies against their k-vals."
   ]
  },
  {
   "cell_type": "code",
   "execution_count": 147,
   "id": "311540d1-bf76-4534-a5f2-27d30740c15a",
   "metadata": {
    "tags": []
   },
   "outputs": [],
   "source": [
    "options(repr.plot.height = 5, repr.plot.width = 9)\n",
    "\n",
    "accuracy_plot <- accuracies |>\n",
    "    ggplot(aes(x = neighbors, y = mean)) +\n",
    "    geom_point() +\n",
    "    geom_line() +\n",
    "    labs(x = \"Neighbor Count (K)\", y = \"Cross-validated Accuracy Estimate\") +\n",
    "    ggtitle(\"Model Accuracy for K Values 1-20\") +\n",
    "    ylim(0, 1) +\n",
    "    theme(text = element_text(size = 15))"
   ]
  },
  {
   "cell_type": "markdown",
   "id": "e3766013-b0f2-4364-a980-f4f2c6db5c08",
   "metadata": {},
   "source": [
    "#### Figure 3.2"
   ]
  },
  {
   "cell_type": "code",
   "execution_count": 148,
   "id": "9ec7f578-37e4-47be-a8fd-184d4d89f0e7",
   "metadata": {
    "tags": []
   },
   "outputs": [
    {
     "data": {
      "image/png": "[encoded data removed]",
      "text/plain": [
       "plot without title"
      ]
     },
     "metadata": {
      "image/png": {
       "height": 300,
       "width": 540
      }
     },
     "output_type": "display_data"
    }
   ],
   "source": [
    "accuracy_plot"
   ]
  },
  {
   "cell_type": "markdown",
   "id": "bf7a6cd2-30a2-44b8-8c31-dbdb80f0b382",
   "metadata": {},
   "source": [
    "Here it can be seen that the most effective number of neighbors while still maintaining reasonable efficiency would be with $k = 3$.\n",
    "\n",
    "Finally, we can create our final model with $k=3$."
   ]
  },
  {
   "cell_type": "code",
   "execution_count": 149,
   "id": "9efce0d6-dcaf-46ad-8c11-88037d10d89c",
   "metadata": {
    "tags": []
   },
   "outputs": [],
   "source": [
    "# Create tuned specification\n",
    "knn_spec_tuned <- nearest_neighbor(weight_func = \"rectangular\", neighbors = 3) |>\n",
    "    set_engine(\"kknn\") |>\n",
    "    set_mode(\"classification\")\n",
    "\n",
    "# Create fit model on training data\n",
    "knn_fit <- workflow() |>\n",
    "    add_recipe(heart_recipe) |>\n",
    "    add_model(knn_spec_tuned) |>\n",
    "    fit(data = heart_training)"
   ]
  },
  {
   "cell_type": "markdown",
   "id": "30f90096-3da3-4c4f-b086-9d77e4a2a6d0",
   "metadata": {},
   "source": [
    "And now we can test our model with the testing data split we created earlier."
   ]
  },
  {
   "cell_type": "code",
   "execution_count": 116,
   "id": "17fca2f5-e664-4abd-94fe-3cd9bda9328d",
   "metadata": {
    "tags": []
   },
   "outputs": [
    {
     "data": {
      "text/html": [
       "0.777777777777778"
      ],
      "text/latex": [
       "0.777777777777778"
      ],
      "text/markdown": [
       "0.777777777777778"
      ],
      "text/plain": [
       "[1] 0.7777778"
      ]
     },
     "metadata": {},
     "output_type": "display_data"
    }
   ],
   "source": [
    "# Predict and bind to original data frame\n",
    "heart_test_predictions <- predict(knn_fit, heart_testing) |>\n",
    "    bind_cols(heart_testing)\n",
    "\n",
    "# View accuracy\n",
    "heart_test_accuracy <- heart_test_predictions |>\n",
    "    metrics(truth = num, estimate = .pred_class) |>\n",
    "    filter(.metric == \"accuracy\") |>\n",
    "    pull(.estimate)\n",
    "\n",
    "heart_test_accuracy"
   ]
  },
  {
   "cell_type": "markdown",
   "id": "2688a5eb-f0fe-4352-91a5-b9fa4fc46410",
   "metadata": {},
   "source": [
    "Thus, our model has a ~78% accuracy on testing data.\n",
    "\n",
    "Now to see which results were predicted incorrectly with a confusion matrix."
   ]
  },
  {
   "cell_type": "markdown",
   "id": "242b3738-53a8-4cdb-ae47-08e8cd28be3d",
   "metadata": {},
   "source": [
    "#### Table 3.3"
   ]
  },
  {
   "cell_type": "code",
   "execution_count": 150,
   "id": "d9bfbc16-fdaf-454a-8f2b-754a2f241a49",
   "metadata": {
    "tags": []
   },
   "outputs": [
    {
     "data": {
      "text/plain": [
       "                Truth\n",
       "Prediction       <50% narrowing >50% narrowing\n",
       "  <50% narrowing             47             10\n",
       "  >50% narrowing              4              2"
      ]
     },
     "metadata": {},
     "output_type": "display_data"
    }
   ],
   "source": [
    "# View confusion matrix\n",
    "confusion <- heart_test_predictions |>\n",
    "    conf_mat(truth = num, estimate = .pred_class)\n",
    "confusion"
   ]
  },
  {
   "cell_type": "markdown",
   "id": "fceaf558-62f6-4a7e-8140-ff24f81931f1",
   "metadata": {},
   "source": [
    "Our results indicate that our model predicts >50% narrowing more often, meaning it will more often say that a patient is likely to have heart disease when they don't rather than the inverse."
   ]
  },
  {
   "cell_type": "markdown",
   "id": "c5105e13-3143-4691-a017-c888157d53b4",
   "metadata": {},
   "source": [
    "## Discussion\n",
    "- summarize what you found\n",
    "- discuss whether this is what you expected to find?\n",
    "- discuss what impact could such findings have?\n",
    "- discuss what future questions could this lead to?"
   ]
  },
  {
   "cell_type": "markdown",
   "id": "33619b9f-a9b9-40f8-aa3a-e1fc5d14b218",
   "metadata": {},
   "source": [
    "## References\n",
    "- At least 2 citations of literature relevant to the project (format is your choice, just be consistent across the references).\n",
    "- Make sure to cite the source of your data as well."
   ]
  }
 ],
 "metadata": {
  "kernelspec": {
   "display_name": "R",
   "language": "R",
   "name": "ir"
  },
  "language_info": {
   "codemirror_mode": "r",
   "file_extension": ".r",
   "mimetype": "text/x-r-source",
   "name": "R",
   "pygments_lexer": "r",
   "version": "4.2.3"
  },
  "toc-autonumbering": false,
  "toc-showmarkdowntxt": false
 },
 "nbformat": 4,
 "nbformat_minor": 5
}
